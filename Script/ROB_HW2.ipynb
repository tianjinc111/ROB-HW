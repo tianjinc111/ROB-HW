{
 "cells": [
  {
   "cell_type": "markdown",
   "metadata": {},
   "source": [
    "Prob 1"
   ]
  },
  {
   "cell_type": "code",
   "execution_count": 12,
   "metadata": {},
   "outputs": [],
   "source": [
    "## 此题注意yzy变换\n",
    "import numpy as np\n",
    "\n",
    "theta1 = 1.96\n",
    "theta2 = -3.11\n",
    "theta3 = -0.22"
   ]
  },
  {
   "cell_type": "code",
   "execution_count": 13,
   "metadata": {},
   "outputs": [],
   "source": [
    "import math\n",
    "def matrixX(r):\n",
    "    return np.matrix([[1,0,0],\n",
    "           [0, math.cos(r), -math.sin(r)],\n",
    "           [0,math.sin(r), math.cos(r)]])\n",
    "def matrixY(r):\n",
    "    return np.matrix([[math.cos(r),0,math.sin(r)],\n",
    "           [0, 1,0],\n",
    "           [-math.sin(r),0, math.cos(r)]])\n",
    "def matrixZ(r):\n",
    "    return np.matrix([[math.cos(r),-math.sin(r),0],\n",
    "           [math.sin(r), math.cos(r), 0],\n",
    "           [0,0,1]])"
   ]
  },
  {
   "cell_type": "code",
   "execution_count": 14,
   "metadata": {},
   "outputs": [],
   "source": [
    "m1 = matrixZ(theta1)\n",
    "m2 = matrixY(theta2)\n",
    "m3 = matrixZ(theta3)"
   ]
  },
  {
   "cell_type": "code",
   "execution_count": 15,
   "metadata": {},
   "outputs": [
    {
     "data": {
      "text/plain": [
       "matrix([[ 0.57202979, -0.82014527,  0.01198589],\n",
       "        [-0.81965339, -0.57211382, -0.02922502],\n",
       "        [ 0.03082606,  0.00689331, -0.99950099]])"
      ]
     },
     "execution_count": 15,
     "metadata": {},
     "output_type": "execute_result"
    }
   ],
   "source": [
    "from numpy.linalg import multi_dot\n",
    "multi_dot([m1,m2,m3])"
   ]
  },
  {
   "cell_type": "code",
   "execution_count": null,
   "metadata": {},
   "outputs": [],
   "source": []
  },
  {
   "cell_type": "markdown",
   "metadata": {},
   "source": [
    "Prob 2"
   ]
  },
  {
   "cell_type": "markdown",
   "metadata": {},
   "source": [
    "ZYX calculator"
   ]
  },
  {
   "cell_type": "markdown",
   "metadata": {},
   "source": [
    "https://www.andre-gaschler.com/rotationconverter/"
   ]
  },
  {
   "cell_type": "code",
   "execution_count": 16,
   "metadata": {},
   "outputs": [],
   "source": [
    "## prob 4"
   ]
  },
  {
   "cell_type": "code",
   "execution_count": 33,
   "metadata": {},
   "outputs": [],
   "source": [
    "import numpy as np\n",
    "\n",
    "p_7in0 = np.matrix([[-0.48819525], [-0.07335992], [-0.54055216]])\n",
    "R_7in0 = np.matrix([[0.05849198, 0.04529358, 0.99725984], [-0.95382980, -0.29226271, 0.06921869], [0.29459702, -0.95526488, 0.02610734]])"
   ]
  },
  {
   "cell_type": "code",
   "execution_count": 34,
   "metadata": {},
   "outputs": [
    {
     "data": {
      "text/plain": [
       "matrix([[ 0.05849198, -0.9538298 ,  0.29459702],\n",
       "        [ 0.04529358, -0.29226271, -0.95526488],\n",
       "        [ 0.99725984,  0.06921869,  0.02610734]])"
      ]
     },
     "execution_count": 34,
     "metadata": {},
     "output_type": "execute_result"
    }
   ],
   "source": [
    "R_7in0.T"
   ]
  },
  {
   "cell_type": "code",
   "execution_count": 35,
   "metadata": {},
   "outputs": [
    {
     "data": {
      "text/plain": [
       "matrix([[ 0.11782768],\n",
       "        [-0.51569875],\n",
       "        [ 0.50604777]])"
      ]
     },
     "execution_count": 35,
     "metadata": {},
     "output_type": "execute_result"
    }
   ],
   "source": [
    "R_7in0.T * p_7in0  * -1"
   ]
  },
  {
   "cell_type": "code",
   "execution_count": 28,
   "metadata": {},
   "outputs": [
    {
     "data": {
      "text/plain": [
       "matrix([[-0.98831703, -0.14896034,  0.03225302],\n",
       "        [-0.11984985,  0.89029839,  0.4393231 ],\n",
       "        [-0.09415653,  0.43032498, -0.89774994]])"
      ]
     },
     "execution_count": 28,
     "metadata": {},
     "output_type": "execute_result"
    }
   ],
   "source": [
    "R_1in3.T"
   ]
  },
  {
   "cell_type": "code",
   "execution_count": 29,
   "metadata": {},
   "outputs": [
    {
     "data": {
      "text/plain": [
       "[[0.872367426773], [-0.111337543938], [-0.129519248704]]"
      ]
     },
     "execution_count": 29,
     "metadata": {},
     "output_type": "execute_result"
    }
   ],
   "source": [
    "[[0.872367426773], [-0.111337543938], [-0.129519248704]]"
   ]
  },
  {
   "cell_type": "markdown",
   "metadata": {},
   "source": [
    "Prob 4"
   ]
  },
  {
   "cell_type": "code",
   "execution_count": 23,
   "metadata": {},
   "outputs": [],
   "source": [
    "import numpy as np\n",
    "\n",
    "p_9in4 = np.array([[-0.36889446], [-0.47386900], [-0.86616937]])\n",
    "R_9in4 = np.array([[-0.96103444, -0.01200106, -0.27616804], [-0.09867836, 0.94812697, 0.30218841], [0.25821578, 0.31766528, -0.91236691]])"
   ]
  },
  {
   "cell_type": "code",
   "execution_count": 11,
   "metadata": {},
   "outputs": [],
   "source": [
    "import numpy as np\n",
    "\n",
    "p_4in8 = np.array([[0.85411359], [0.54775763], [-0.45612112]])\n",
    "R_4in8 = np.array([[0.87358700, -0.01693152, -0.48637339], [0.02348694, -0.99676333, 0.07688456], [-0.48610093, -0.07858878, -0.87036182]])"
   ]
  },
  {
   "cell_type": "code",
   "execution_count": 12,
   "metadata": {},
   "outputs": [
    {
     "data": {
      "text/plain": [
       "array([[ 0.873587  ,  0.02348694, -0.48610093],\n",
       "       [-0.01693152, -0.99676333, -0.07858878],\n",
       "       [-0.48637339,  0.07688456, -0.87036182]])"
      ]
     },
     "execution_count": 12,
     "metadata": {},
     "output_type": "execute_result"
    }
   ],
   "source": [
    "RI = R_4in8.T\n",
    "RI"
   ]
  },
  {
   "cell_type": "code",
   "execution_count": null,
   "metadata": {},
   "outputs": [],
   "source": []
  },
  {
   "cell_type": "code",
   "execution_count": 13,
   "metadata": {},
   "outputs": [
    {
     "data": {
      "text/plain": [
       "array([[-0.98072858],\n",
       "       [ 0.52460016],\n",
       "       [-0.02368639]])"
      ]
     },
     "execution_count": 13,
     "metadata": {},
     "output_type": "execute_result"
    }
   ],
   "source": [
    "RI.dot(p_4in8) * -1"
   ]
  },
  {
   "cell_type": "markdown",
   "metadata": {},
   "source": [
    "Prob 5"
   ]
  },
  {
   "cell_type": "code",
   "execution_count": 47,
   "metadata": {},
   "outputs": [],
   "source": [
    "import numpy as np\n",
    "\n",
    "T_6in1 = np.matrix([[0.82364713, -0.08492977, -0.56070699, -0.10370133], [0.18044523, -0.89808752, 0.40109641, -0.01845371], [-0.53762898, -0.43153881, -0.72438204, -1.22891608], [0.00000000, 0.00000000, 0.00000000, 1.00000000]])\n",
    "T_8in1 = np.matrix([[0.05434452, -0.03934770, -0.99774668, 0.45609973], [0.94903521, 0.31270275, 0.03935942, -0.94892087], [0.31044943, -0.94903569, 0.05433604, -0.05861383], [0.00000000, 0.00000000, 0.00000000, 1.00000000]])"
   ]
  },
  {
   "cell_type": "code",
   "execution_count": 48,
   "metadata": {},
   "outputs": [
    {
     "data": {
      "text/plain": [
       "matrix([[ 0.04910297,  0.53424618, -0.84390161, -0.33600822],\n",
       "        [-0.99090312,  0.13205309,  0.02594208,  0.28306633],\n",
       "        [ 0.12529927,  0.83495089,  0.53587042, -1.53483734],\n",
       "        [ 0.        ,  0.        ,  0.        ,  1.        ]])"
      ]
     },
     "execution_count": 48,
     "metadata": {},
     "output_type": "execute_result"
    }
   ],
   "source": [
    "\n",
    "## be care ful here is the inverse and 转换原本作标而非code中坐标\n",
    "(T_6in1.I * T_8in1)"
   ]
  },
  {
   "cell_type": "markdown",
   "metadata": {},
   "source": [
    "Prob 6"
   ]
  },
  {
   "cell_type": "markdown",
   "metadata": {},
   "source": [
    "https://math.stackexchange.com/questions/258775/from-a-vector-to-a-skew-symmetric-matrix"
   ]
  },
  {
   "cell_type": "code",
   "execution_count": null,
   "metadata": {},
   "outputs": [],
   "source": [
    "## 注意python 中的写法需要以【【】，【】，【】】 的格式"
   ]
  },
  {
   "cell_type": "code",
   "execution_count": null,
   "metadata": {},
   "outputs": [],
   "source": []
  },
  {
   "cell_type": "markdown",
   "metadata": {},
   "source": [
    "Prob 7"
   ]
  },
  {
   "cell_type": "code",
   "execution_count": 79,
   "metadata": {},
   "outputs": [],
   "source": [
    "def woperationM(w):\n",
    "    return np.array([[0,-w.item(2),w.item(1)],[w.item(2),0,-w.item(0)],[-w.item(1),w.item(0),0]])"
   ]
  },
  {
   "cell_type": "code",
   "execution_count": 80,
   "metadata": {},
   "outputs": [],
   "source": [
    "import numpy as np\n",
    "\n",
    "a = np.matrix([[-5], [ 1], [-1]])"
   ]
  },
  {
   "cell_type": "code",
   "execution_count": 81,
   "metadata": {},
   "outputs": [
    {
     "data": {
      "text/plain": [
       "array([[ 0,  1,  1],\n",
       "       [-1,  0,  5],\n",
       "       [-1, -5,  0]])"
      ]
     },
     "execution_count": 81,
     "metadata": {},
     "output_type": "execute_result"
    }
   ],
   "source": [
    "woperationM(a)"
   ]
  },
  {
   "cell_type": "markdown",
   "metadata": {},
   "source": [
    "Prob 8"
   ]
  },
  {
   "cell_type": "code",
   "execution_count": 89,
   "metadata": {},
   "outputs": [],
   "source": [
    "import numpy as np\n",
    "\n",
    "v_in2 = np.array([[-3], [ 8], [10]])"
   ]
  },
  {
   "cell_type": "code",
   "execution_count": 90,
   "metadata": {},
   "outputs": [
    {
     "data": {
      "text/plain": [
       "array([[  0, -10,   8],\n",
       "       [ 10,   0,   3],\n",
       "       [ -8,  -3,   0]])"
      ]
     },
     "execution_count": 90,
     "metadata": {},
     "output_type": "execute_result"
    }
   ],
   "source": [
    "woperationM(v_in2)"
   ]
  }
 ],
 "metadata": {
  "kernelspec": {
   "display_name": "Python 3",
   "language": "python",
   "name": "python3"
  },
  "language_info": {
   "codemirror_mode": {
    "name": "ipython",
    "version": 3
   },
   "file_extension": ".py",
   "mimetype": "text/x-python",
   "name": "python",
   "nbconvert_exporter": "python",
   "pygments_lexer": "ipython3",
   "version": "3.8.8"
  }
 },
 "nbformat": 4,
 "nbformat_minor": 4
}
