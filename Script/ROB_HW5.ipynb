{
 "cells": [
  {
   "cell_type": "code",
   "execution_count": 12,
   "metadata": {},
   "outputs": [],
   "source": [
    "def woperationM(w):\n",
    "    return np.matrix([[0,-w.item(2),w.item(1)],[w.item(2),0,-w.item(0)],[-w.item(1),w.item(0),0]])\n",
    "def inverswop(w):\n",
    "    \n",
    "    return np.matrix([[w.item(7)],[w.item(2)],[w.item(3)]])\n",
    "def voperationM(w):\n",
    "    return np.array([[0,-w.item(2),w.item(1),w.item(3)],[w.item(2),0,-w.item(0),w.item(4)],[-w.item(1),w.item(0),0,w.item(5)],[0,0,0,0]])\n",
    "def soperation(s):\n",
    "    tmp = np.matrix([s.item(0),s.item(1),s.item(2)])\n",
    "    w = woperationM(tmp)\n",
    "    return np.matrix([[w.item(0),w.item(1),w.item(2),s.item(3)],\n",
    "                      [w.item(3),w.item(4),w.item(5),s.item(4)],\n",
    "                      [w.item(6),w.item(7),w.item(8),s.item(5)],\n",
    "                      [0,0,0,0]])"
   ]
  },
  {
   "cell_type": "code",
   "execution_count": 13,
   "metadata": {},
   "outputs": [],
   "source": [
    "def sconver(w,q):\n",
    "\n",
    "    return -1*woperationM(w)*q"
   ]
  },
  {
   "cell_type": "markdown",
   "metadata": {},
   "source": [
    "PROB 1"
   ]
  },
  {
   "cell_type": "code",
   "execution_count": 64,
   "metadata": {},
   "outputs": [],
   "source": [
    "import numpy as np\n",
    "\n",
    "theta = 0.23"
   ]
  },
  {
   "cell_type": "code",
   "execution_count": 66,
   "metadata": {},
   "outputs": [],
   "source": [
    "m = np.matrix([[0,1,0,2],[-1,0,0,2],[0,0,1,0],[0,0,0,1]])"
   ]
  },
  {
   "cell_type": "code",
   "execution_count": 98,
   "metadata": {},
   "outputs": [
    {
     "data": {
      "text/plain": [
       "matrix([[-0.78],\n",
       "        [ 0.  ],\n",
       "        [ 0.  ]])"
      ]
     },
     "execution_count": 98,
     "metadata": {},
     "output_type": "execute_result"
    }
   ],
   "source": [
    "w = np.matrix([0,-0.39,0])\n",
    "q = np.matrix([[0],[0],[-2]])\n",
    "\n",
    "-1*woperationM(w)*q\n"
   ]
  },
  {
   "cell_type": "code",
   "execution_count": 18,
   "metadata": {},
   "outputs": [],
   "source": [
    "s = np.matrix([1,0,0,0,0,0])"
   ]
  },
  {
   "cell_type": "code",
   "execution_count": 69,
   "metadata": {},
   "outputs": [
    {
     "data": {
      "text/plain": [
       "matrix([[ 0.        ,  0.9736664 ,  0.22797752,  1.94733279],\n",
       "        [-1.        ,  0.        ,  0.        ,  2.        ],\n",
       "        [ 0.        , -0.22797752,  0.9736664 , -0.45595505],\n",
       "        [ 0.        ,  0.        ,  0.        ,  1.        ]])"
      ]
     },
     "execution_count": 69,
     "metadata": {},
     "output_type": "execute_result"
    }
   ],
   "source": [
    "from scipy.linalg import expm\n",
    "T = expm(soperation(s)*theta)*m\n",
    "\n",
    "T"
   ]
  },
  {
   "cell_type": "code",
   "execution_count": 76,
   "metadata": {},
   "outputs": [],
   "source": [
    "R = np.matrix([[ 0.        ,  0.9736664 ,  0.22797752],[-1.        ,  0.        ,  0.       ],[ 0.        , -0.22797752,  0.9736664 ]])"
   ]
  },
  {
   "cell_type": "code",
   "execution_count": 77,
   "metadata": {},
   "outputs": [
    {
     "data": {
      "text/plain": [
       "matrix([[ 0.        ,  0.9736664 ,  0.22797752],\n",
       "        [-1.        ,  0.        ,  0.        ],\n",
       "        [ 0.        , -0.22797752,  0.9736664 ]])"
      ]
     },
     "execution_count": 77,
     "metadata": {},
     "output_type": "execute_result"
    }
   ],
   "source": [
    "R"
   ]
  },
  {
   "cell_type": "code",
   "execution_count": null,
   "metadata": {},
   "outputs": [],
   "source": [
    "P = np.matrix([])"
   ]
  },
  {
   "cell_type": "code",
   "execution_count": 78,
   "metadata": {},
   "outputs": [],
   "source": [
    "def extractRT(t):\n",
    "    r = np.matrix([[t[0][0],t[0][1],t[0][2]],[t[1][0],t[1][1],t[1][2]],[t[2][0],t[2][1],t[2][2]]])\n",
    "    p = np.matrix([[t[0][3]],[t[1][3]],[t[2][3]]])\n",
    "    return r,p"
   ]
  },
  {
   "cell_type": "code",
   "execution_count": 82,
   "metadata": {},
   "outputs": [],
   "source": [
    "r,p = extractRT([[ 0.        ,  0.9736664 ,  0.22797752,  1.94733279],\n",
    "        [-1.        ,  0.        ,  0.        ,  2.        ],\n",
    "        [ 0.        , -0.22797752,  0.9736664 , -0.45595505],\n",
    "        [ 0.        ,  0.        ,  0.        ,  1.        ]])"
   ]
  },
  {
   "cell_type": "code",
   "execution_count": 83,
   "metadata": {},
   "outputs": [
    {
     "data": {
      "text/plain": [
       "matrix([[ 0.        ,  0.9736664 ,  0.22797752],\n",
       "        [-1.        ,  0.        ,  0.        ],\n",
       "        [ 0.        , -0.22797752,  0.9736664 ]])"
      ]
     },
     "execution_count": 83,
     "metadata": {},
     "output_type": "execute_result"
    }
   ],
   "source": [
    "r"
   ]
  },
  {
   "cell_type": "code",
   "execution_count": 91,
   "metadata": {},
   "outputs": [
    {
     "data": {
      "text/plain": [
       "matrix([[ 1.8433853 ],\n",
       "        [-1.94733279],\n",
       "        [-0.89990315]])"
      ]
     },
     "execution_count": 91,
     "metadata": {},
     "output_type": "execute_result"
    }
   ],
   "source": [
    "r * p\n"
   ]
  },
  {
   "cell_type": "code",
   "execution_count": null,
   "metadata": {},
   "outputs": [],
   "source": []
  },
  {
   "cell_type": "code",
   "execution_count": 92,
   "metadata": {},
   "outputs": [
    {
     "data": {
      "text/plain": [
       "matrix([[ 1.8433853 ],\n",
       "        [-1.94733279],\n",
       "        [-0.89990315]])"
      ]
     },
     "execution_count": 92,
     "metadata": {},
     "output_type": "execute_result"
    }
   ],
   "source": [
    "np.dot(r,p)"
   ]
  },
  {
   "cell_type": "code",
   "execution_count": null,
   "metadata": {},
   "outputs": [],
   "source": []
  },
  {
   "cell_type": "code",
   "execution_count": null,
   "metadata": {},
   "outputs": [],
   "source": []
  },
  {
   "cell_type": "code",
   "execution_count": null,
   "metadata": {},
   "outputs": [],
   "source": []
  },
  {
   "cell_type": "markdown",
   "metadata": {},
   "source": [
    "Prob 2"
   ]
  },
  {
   "cell_type": "code",
   "execution_count": null,
   "metadata": {},
   "outputs": [],
   "source": []
  },
  {
   "cell_type": "code",
   "execution_count": null,
   "metadata": {},
   "outputs": [],
   "source": []
  },
  {
   "cell_type": "code",
   "execution_count": null,
   "metadata": {},
   "outputs": [],
   "source": []
  },
  {
   "cell_type": "code",
   "execution_count": null,
   "metadata": {},
   "outputs": [],
   "source": []
  },
  {
   "cell_type": "code",
   "execution_count": 189,
   "metadata": {},
   "outputs": [
    {
     "data": {
      "text/plain": [
       "matrix([[ 0],\n",
       "        [ 0],\n",
       "        [-2]])"
      ]
     },
     "execution_count": 189,
     "metadata": {},
     "output_type": "execute_result"
    }
   ],
   "source": [
    "w = np.matrix([1,0,0])\n",
    "q = np.matrix([[0],[2],[0]])\n",
    "sconver(w,q)"
   ]
  },
  {
   "cell_type": "markdown",
   "metadata": {},
   "source": [
    "Prob 4"
   ]
  },
  {
   "cell_type": "code",
   "execution_count": 22,
   "metadata": {},
   "outputs": [],
   "source": [
    "w=np.matrix([-1,0,0])\n",
    "q=np.matrix([[0],[2],[0]])\n",
    "def sconver(w,q):\n",
    "\n",
    "    return -1*woperationM(w)*q"
   ]
  },
  {
   "cell_type": "code",
   "execution_count": null,
   "metadata": {},
   "outputs": [],
   "source": []
  },
  {
   "cell_type": "code",
   "execution_count": 21,
   "metadata": {},
   "outputs": [],
   "source": [
    "import numpy as np\n",
    "\n",
    "theta = np.array([[0.01000000, -0.57000000, -0.78000000]])\n",
    "T_2_in_0 = np.array([[-0.43201542, 0.41415363, 0.80114883, 0.21026265], [0.73220875, 0.67969140, 0.04347358, -0.10987661], [-0.52652923, 0.60538943, -0.59688408, -0.52835984], [0.00000000, 0.00000000, 0.00000000, 1.00000000]])"
   ]
  },
  {
   "cell_type": "code",
   "execution_count": 23,
   "metadata": {},
   "outputs": [],
   "source": [
    "import numpy as np\n",
    "\n",
    "theta = np.array([[-0.31, 0.55, 0.86]])"
   ]
  },
  {
   "cell_type": "code",
   "execution_count": 17,
   "metadata": {},
   "outputs": [],
   "source": [
    "from scipy.linalg import expm"
   ]
  },
  {
   "cell_type": "code",
   "execution_count": 112,
   "metadata": {},
   "outputs": [
    {
     "data": {
      "text/plain": [
       "matrix([[-6],\n",
       "        [ 0],\n",
       "        [ 0]])"
      ]
     },
     "execution_count": 112,
     "metadata": {},
     "output_type": "execute_result"
    }
   ],
   "source": [
    "w=np.matrix([0,1,0])\n",
    "q=np.matrix([[0],[2],[6]])\n",
    "-1*woperationM(w)*q\n"
   ]
  },
  {
   "cell_type": "code",
   "execution_count": 113,
   "metadata": {},
   "outputs": [],
   "source": [
    "import numpy as np\n",
    "\n",
    "theta = np.array([[0.52, 0.84, 0.52]])"
   ]
  },
  {
   "cell_type": "code",
   "execution_count": 114,
   "metadata": {},
   "outputs": [],
   "source": [
    "\n",
    "s1=np.matrix([0,0,0,0,1,0])\n",
    "s2=np.matrix([0,0,0,-1,0,0])\n",
    "s3=np.matrix([0,1,0,-6,0,0])\n",
    "m = np.matrix([[1,0,0,0],[0,0,1,4],[0,-1,0,6],[0,0,0,1]])"
   ]
  },
  {
   "cell_type": "code",
   "execution_count": null,
   "metadata": {},
   "outputs": [],
   "source": [
    "[[0,0,0],[0,0,0],[0,0,0],[0,0,0],[-1,-1,-1],[0,0,0]]"
   ]
  },
  {
   "cell_type": "code",
   "execution_count": 116,
   "metadata": {
    "scrolled": true
   },
   "outputs": [
    {
     "data": {
      "text/plain": [
       "matrix([[ 0.86781918, -0.49688014,  0.        , -0.84      ],\n",
       "        [ 0.        ,  0.        ,  1.        ,  4.52      ],\n",
       "        [-0.49688014, -0.86781918,  0.        ,  6.        ],\n",
       "        [ 0.        ,  0.        ,  0.        ,  1.        ]])"
      ]
     },
     "execution_count": 116,
     "metadata": {},
     "output_type": "execute_result"
    }
   ],
   "source": [
    "from numpy.linalg import multi_dot\n",
    "t1 = expm(soperation(s1)*theta[0][0])\n",
    "t2 = expm(soperation(s2)*theta[0][1])\n",
    "t3 = expm(soperation(s3)*theta[0][2])\n",
    "T01 = multi_dot([t1,t2,t3,m])\n",
    "T01"
   ]
  },
  {
   "cell_type": "code",
   "execution_count": 38,
   "metadata": {},
   "outputs": [
    {
     "data": {
      "text/plain": [
       "[[0, 1, 0, 6],\n",
       " [-0.987100101014, 0, 0.160104311555, 0.31],\n",
       " [0.160104311555, 0, 0.987100101014, -2],\n",
       " [0, 0, 0, 1]]"
      ]
     },
     "execution_count": 38,
     "metadata": {},
     "output_type": "execute_result"
    }
   ],
   "source": [
    "[[0, 1, 0, 6], [-0.987100101014, 0, 0.160104311555, 0.31], [0.160104311555, 0, 0.987100101014, -2], [0, 0, 0, 1]]"
   ]
  },
  {
   "cell_type": "code",
   "execution_count": null,
   "metadata": {},
   "outputs": [],
   "source": []
  },
  {
   "cell_type": "code",
   "execution_count": 57,
   "metadata": {},
   "outputs": [
    {
     "data": {
      "text/plain": [
       "matrix([[ 0.64571233, -0.67246829, -0.36172086,  7.43633185],\n",
       "        [ 0.73220875,  0.6796914 ,  0.04347358, -0.10987661],\n",
       "        [ 0.21662395, -0.2929266 ,  0.93127229, -2.79776746],\n",
       "        [ 0.        ,  0.        ,  0.        ,  1.        ]])"
      ]
     },
     "execution_count": 57,
     "metadata": {},
     "output_type": "execute_result"
    }
   ],
   "source": [
    "T01.I *  T_2_in_0"
   ]
  },
  {
   "cell_type": "code",
   "execution_count": 63,
   "metadata": {},
   "outputs": [
    {
     "data": {
      "text/plain": [
       "7.94598055704797"
      ]
     },
     "execution_count": 63,
     "metadata": {},
     "output_type": "execute_result"
    }
   ],
   "source": [
    "(7.43633185 ** 2  + (-0.10987661)**2 +  (-2.79776746)**2)** (1/2)"
   ]
  },
  {
   "cell_type": "code",
   "execution_count": null,
   "metadata": {},
   "outputs": [],
   "source": []
  },
  {
   "cell_type": "code",
   "execution_count": 110,
   "metadata": {},
   "outputs": [],
   "source": [
    "import numpy as np\n",
    "\n",
    "theta = np.array([[-0.99000000], [0.72000000], [-0.64000000], [0.19000000], [0.24000000], [-0.40000000], [-0.07000000], [-0.71000000]])\n",
    "dtheta = np.matrix([[-0.35000000], [0.65000000], [-0.79000000], [0.23000000], [0.58000000], [0.96000000], [-0.49000000], [0.32000000]])\n",
    "jacobian = np.matrix([[-0.18885889, -0.18885889, -0.18885889, 0.00000000, 0.00000000,  0.00000000, 0.00000000, 1.00000000], [0.64010352, 0.64010352, 0.64010352, -0.75836188, 0.00000000, 0.00000000,  0.00000000, -0.00000000], [-0.74471457, -0.74471457, -0.74471457, -0.65183377, 0.00000000,  0.00000000, 0.00000000, 0.00000000], [0.54136445, 0.69831758, -0.47457932, 1.07366754, -0.00000000,  -0.00000000, -0.00000000, 0.00000000], [-1.79847088, -3.29066797, -4.65426067, -5.21467017, 0.65183377,  0.65183377, 0.65183377, 0.00000000], [-1.68312677, -3.00551611, -3.88011761, 6.06689501, -0.75836188,  -0.75836188, -0.75836188, 2.00000000]])\n",
    "T_1in0 = np.array([[-0.60270093, 0.52317461, 0.60252794, -3.07519304], [-0.77529602, -0.56263292, -0.28698481, 1.71867394], [0.18885889, -0.64010352, 0.74471457, 0.45652509], [0.00000000, 0.00000000, 0.00000000, 1.00000000]])"
   ]
  },
  {
   "cell_type": "code",
   "execution_count": 111,
   "metadata": {},
   "outputs": [
    {
     "data": {
      "text/plain": [
       "matrix([[ 0.41254086],\n",
       "        [-0.48807396],\n",
       "        [ 0.21498837],\n",
       "        [ 0.88629007],\n",
       "        [ 1.65244788],\n",
       "        [ 2.93990769]])"
      ]
     },
     "execution_count": 111,
     "metadata": {},
     "output_type": "execute_result"
    }
   ],
   "source": [
    "jacobian * dtheta"
   ]
  },
  {
   "cell_type": "code",
   "execution_count": null,
   "metadata": {},
   "outputs": [],
   "source": []
  },
  {
   "cell_type": "code",
   "execution_count": null,
   "metadata": {},
   "outputs": [],
   "source": []
  }
 ],
 "metadata": {
  "kernelspec": {
   "display_name": "Python 3",
   "language": "python",
   "name": "python3"
  },
  "language_info": {
   "codemirror_mode": {
    "name": "ipython",
    "version": 3
   },
   "file_extension": ".py",
   "mimetype": "text/x-python",
   "name": "python",
   "nbconvert_exporter": "python",
   "pygments_lexer": "ipython3",
   "version": "3.8.8"
  }
 },
 "nbformat": 4,
 "nbformat_minor": 4
}
