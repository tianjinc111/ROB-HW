{
 "cells": [
  {
   "cell_type": "code",
   "execution_count": 173,
   "metadata": {},
   "outputs": [],
   "source": [
    "def woperationM(w):\n",
    "    return np.matrix([[0,-w.item(2),w.item(1)],[w.item(2),0,-w.item(0)],[-w.item(1),w.item(0),0]])\n",
    "def inverswop(w):\n",
    "    \n",
    "    return np.matrix([[w.item(7)],[w.item(2)],[w.item(3)]])\n",
    "def voperationM(w):\n",
    "    return np.array([[0,-w.item(2),w.item(1),w.item(3)],[w.item(2),0,-w.item(0),w.item(4)],[-w.item(1),w.item(0),0,w.item(5)],[0,0,0,0]])\n",
    "def soperation(s):\n",
    "    tmp = np.matrix([s.item(0),s.item(1),s.item(2)])\n",
    "    w = woperationM(tmp)\n",
    "    return np.matrix([[w.item(0),w.item(1),w.item(2),s.item(3)],\n",
    "                      [w.item(3),w.item(4),w.item(5),s.item(4)],\n",
    "                      [w.item(6),w.item(7),w.item(8),s.item(5)],\n",
    "                      [0,0,0,0]])"
   ]
  },
  {
   "cell_type": "markdown",
   "metadata": {},
   "source": [
    "PROB 1"
   ]
  },
  {
   "cell_type": "code",
   "execution_count": 183,
   "metadata": {},
   "outputs": [],
   "source": [
    "import numpy as np\n",
    "\n",
    "theta = 0.74"
   ]
  },
  {
   "cell_type": "code",
   "execution_count": 184,
   "metadata": {},
   "outputs": [],
   "source": [
    "m = np.matrix([[0,0,1,-2],[1,0,0,2],[0,1,0,0],[0,0,0,1]])"
   ]
  },
  {
   "cell_type": "code",
   "execution_count": 185,
   "metadata": {},
   "outputs": [
    {
     "data": {
      "text/plain": [
       "matrix([[0],\n",
       "        [0],\n",
       "        [0]])"
      ]
     },
     "execution_count": 185,
     "metadata": {},
     "output_type": "execute_result"
    }
   ],
   "source": [
    "w = np.matrix([-1,0,0])\n",
    "q = np.matrix([[-2],[0],[0]])\n",
    "sconver(w,q)"
   ]
  },
  {
   "cell_type": "code",
   "execution_count": 186,
   "metadata": {},
   "outputs": [],
   "source": [
    "s = np.matrix([-1,0,0,0,0,0])"
   ]
  },
  {
   "cell_type": "code",
   "execution_count": 187,
   "metadata": {},
   "outputs": [
    {
     "data": {
      "text/plain": [
       "matrix([[ 0.        ,  0.        ,  1.        , -2.        ],\n",
       "        [ 0.73846856,  0.67428791,  0.        ,  1.47693712],\n",
       "        [-0.67428791,  0.73846856,  0.        , -1.34857582],\n",
       "        [ 0.        ,  0.        ,  0.        ,  1.        ]])"
      ]
     },
     "execution_count": 187,
     "metadata": {},
     "output_type": "execute_result"
    }
   ],
   "source": [
    "from scipy.linalg import expm\n",
    "expm(soperation(s)*theta)*m"
   ]
  },
  {
   "cell_type": "markdown",
   "metadata": {},
   "source": [
    "Prob 2"
   ]
  },
  {
   "cell_type": "code",
   "execution_count": 189,
   "metadata": {},
   "outputs": [
    {
     "data": {
      "text/plain": [
       "matrix([[ 0],\n",
       "        [ 0],\n",
       "        [-2]])"
      ]
     },
     "execution_count": 189,
     "metadata": {},
     "output_type": "execute_result"
    }
   ],
   "source": [
    "w = np.matrix([1,0,0])\n",
    "q = np.matrix([[0],[2],[0]])\n",
    "sconver(w,q)"
   ]
  },
  {
   "cell_type": "markdown",
   "metadata": {},
   "source": [
    "Prob 4"
   ]
  },
  {
   "cell_type": "code",
   "execution_count": null,
   "metadata": {},
   "outputs": [],
   "source": []
  },
  {
   "cell_type": "code",
   "execution_count": 191,
   "metadata": {},
   "outputs": [],
   "source": [
    "w=np.matrix([-1,0,0])\n",
    "q=np.matrix([[-6],[0],[0]])\n",
    "def sconver(w,q):\n",
    "\n",
    "    return -1*woperationM(w)*q"
   ]
  },
  {
   "cell_type": "code",
   "execution_count": 162,
   "metadata": {},
   "outputs": [
    {
     "data": {
      "text/plain": [
       "matrix([[0],\n",
       "        [0],\n",
       "        [0]])"
      ]
     },
     "execution_count": 162,
     "metadata": {},
     "output_type": "execute_result"
    }
   ],
   "source": [
    "w=np.matrix([-1,0,0])\n",
    "q=np.matrix([[-6],[0],[0]])\n",
    "-1*woperationM(w)*q\n"
   ]
  },
  {
   "cell_type": "code",
   "execution_count": 158,
   "metadata": {},
   "outputs": [],
   "source": [
    "import numpy as np\n",
    "\n",
    "theta = np.array([[0.11, 0.97, -0.33]])"
   ]
  },
  {
   "cell_type": "code",
   "execution_count": 159,
   "metadata": {},
   "outputs": [],
   "source": [
    "\n",
    "s1=np.matrix([0,0,0,0,0,1])\n",
    "s2=np.matrix([-1,0,0,0,0,0])\n",
    "s3=np.matrix([-1,0,0,0,0,0])\n",
    "m = np.matrix([[0,-1,0,-6],[-1,0,0,-2],[0,0,-1,0],[0,0,0,1]])"
   ]
  },
  {
   "cell_type": "code",
   "execution_count": 160,
   "metadata": {
    "scrolled": true
   },
   "outputs": [
    {
     "data": {
      "text/plain": [
       "matrix([[ 0.        , -1.        ,  0.        , -6.        ],\n",
       "        [-0.80209576,  0.        , -0.59719544, -1.60419152],\n",
       "        [ 0.59719544,  0.        , -0.80209576,  1.30439088],\n",
       "        [ 0.        ,  0.        ,  0.        ,  1.        ]])"
      ]
     },
     "execution_count": 160,
     "metadata": {},
     "output_type": "execute_result"
    }
   ],
   "source": [
    "from numpy.linalg import multi_dot\n",
    "t1 = expm(soperation(s1)*theta[0][0])\n",
    "t2 = expm(soperation(s2)*theta[0][1])\n",
    "t3 = expm(soperation(s3)*theta[0][2])\n",
    "multi_dot([t1,t2,t3,m])"
   ]
  },
  {
   "cell_type": "code",
   "execution_count": 161,
   "metadata": {},
   "outputs": [
    {
     "data": {
      "text/plain": [
       "[[0, -1, 0, -6],\n",
       " [-0.802095757884, 0, -0.597195441362, -1.60419151577],\n",
       " [0.597195441362, 0, -0.802095757884, 1.08439088272],\n",
       " [0, 0, 0, 1]]"
      ]
     },
     "execution_count": 161,
     "metadata": {},
     "output_type": "execute_result"
    }
   ],
   "source": [
    "[[0, -1, 0, -6], [-0.802095757884, 0, -0.597195441362, -1.60419151577], [0.597195441362, 0, -0.802095757884, 1.08439088272], [0, 0, 0, 1]]"
   ]
  },
  {
   "cell_type": "code",
   "execution_count": null,
   "metadata": {},
   "outputs": [],
   "source": []
  }
 ],
 "metadata": {
  "kernelspec": {
   "display_name": "Python 3",
   "language": "python",
   "name": "python3"
  },
  "language_info": {
   "codemirror_mode": {
    "name": "ipython",
    "version": 3
   },
   "file_extension": ".py",
   "mimetype": "text/x-python",
   "name": "python",
   "nbconvert_exporter": "python",
   "pygments_lexer": "ipython3",
   "version": "3.8.8"
  }
 },
 "nbformat": 4,
 "nbformat_minor": 4
}
