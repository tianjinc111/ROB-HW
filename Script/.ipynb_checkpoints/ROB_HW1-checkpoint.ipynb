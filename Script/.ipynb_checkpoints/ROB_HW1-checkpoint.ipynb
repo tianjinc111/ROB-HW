{
 "cells": [
  {
   "cell_type": "markdown",
   "metadata": {},
   "source": [
    "Prob 5"
   ]
  },
  {
   "cell_type": "code",
   "execution_count": 34,
   "metadata": {},
   "outputs": [],
   "source": [
    "import numpy as np\n",
    "\n",
    "p_7 = np.array([[0.47500716], [-0.79485077]])\n",
    "R_47 = np.array([[0.12731093, -0.99186286], [0.99186286, 0.12731093]])\n",
    "q_4 = np.array([[0.12270238], [0.27918390]])"
   ]
  },
  {
   "cell_type": "code",
   "execution_count": 36,
   "metadata": {},
   "outputs": [
    {
     "data": {
      "text/plain": [
       "array([[1.02044285],\n",
       "       [0.48617438]])"
      ]
     },
     "execution_count": 36,
     "metadata": {},
     "output_type": "execute_result"
    }
   ],
   "source": [
    "R_47.T.dot((q_4-p_7))"
   ]
  },
  {
   "cell_type": "code",
   "execution_count": 37,
   "metadata": {},
   "outputs": [],
   "source": [
    "import numpy as np\n",
    "\n",
    "p_9 = np.array([[0.15013585], [0.53729064]])\n",
    "R_49 = np.array([[-0.54424277, -0.83892777], [0.83892777, -0.54424277]])\n",
    "q_9 = np.array([[-0.92635228], [-0.72281123]])"
   ]
  },
  {
   "cell_type": "code",
   "execution_count": 38,
   "metadata": {},
   "outputs": [
    {
     "data": {
      "text/plain": [
       "array([[1.26068279],\n",
       "       [0.15353277]])"
      ]
     },
     "execution_count": 38,
     "metadata": {},
     "output_type": "execute_result"
    }
   ],
   "source": [
    "R_49.dot(q_9) + p_9"
   ]
  },
  {
   "cell_type": "markdown",
   "metadata": {},
   "source": [
    "Draw the relationship map and the equation"
   ]
  },
  {
   "cell_type": "markdown",
   "metadata": {},
   "source": [
    "Prob 7 "
   ]
  },
  {
   "cell_type": "code",
   "execution_count": 63,
   "metadata": {},
   "outputs": [],
   "source": [
    "import numpy as np\n",
    "\n",
    "R1 = np.array([[0.04470925, -0.16429219, -0.93146795], [0.48297825, 0.78614966, -0.07864328], [0.99368918, -0.60313788, 0.00524052]])\n",
    "R2 = np.array([[-0.61657574, -0.47364551, 0.62888337], [0.40531191, 0.49383807, 0.76931542], [-0.67494934, 0.72923514, -0.11251441]])\n",
    "R3 = np.array([[-0.52795203, 0.30395044, -0.79302004], [-0.81608911, 0.07690461, 0.57278639], [0.23508557, 0.94957876, 0.20744870]])\n",
    "R4 = np.array([[0.27977294, 0.68250888, -0.67521014], [0.93649482, -0.03912072, 0.34849250], [0.21143452, -0.72982957, -0.65011095]])\n",
    "R5 = np.array([[0.41957744, 0.23092924, 0.79863539], [0.75375038, 0.69986292, -0.30418217], [-0.68403798, 0.79210955, 0.03753165]])"
   ]
  },
  {
   "cell_type": "code",
   "execution_count": 196,
   "metadata": {},
   "outputs": [
    {
     "data": {
      "text/plain": [
       "1.0127939830821517"
      ]
     },
     "execution_count": 196,
     "metadata": {},
     "output_type": "execute_result"
    }
   ],
   "source": [
    "np.linalg.det(R5)"
   ]
  },
  {
   "cell_type": "code",
   "execution_count": 73,
   "metadata": {},
   "outputs": [
    {
     "data": {
      "text/plain": [
       "array([[ 1.00000000e+00, -5.15719575e-10, -1.58675563e-09],\n",
       "       [-5.15719575e-10,  1.00000000e+00,  1.16014834e-09],\n",
       "       [-1.58675563e-09,  1.16014834e-09,  1.00000000e+00]])"
      ]
     },
     "execution_count": 73,
     "metadata": {},
     "output_type": "execute_result"
    }
   ],
   "source": [
    "R4.T.dot(R4)"
   ]
  },
  {
   "cell_type": "code",
   "execution_count": 74,
   "metadata": {},
   "outputs": [
    {
     "data": {
      "text/plain": [
       "array([[1.00000000e+00, 5.80227239e-10, 4.31340177e-10],\n",
       "       [5.80227239e-10, 1.00000000e+00, 7.62001798e-10],\n",
       "       [4.31340177e-10, 7.62001798e-10, 1.00000000e+00]])"
      ]
     },
     "execution_count": 74,
     "metadata": {},
     "output_type": "execute_result"
    }
   ],
   "source": [
    "R4.dot(R4\n",
    "       .T)"
   ]
  },
  {
   "cell_type": "markdown",
   "metadata": {},
   "source": [
    "Prob 9 "
   ]
  },
  {
   "cell_type": "markdown",
   "metadata": {},
   "source": [
    "## transpose 之后减去V，不transpose 则加上p"
   ]
  },
  {
   "cell_type": "code",
   "execution_count": 10,
   "metadata": {},
   "outputs": [
    {
     "data": {
      "text/plain": [
       "array([[ 0.83076029,  0.50215127,  0.24016961, -0.23289293],\n",
       "       [ 0.04382999, -0.4891439 ,  0.87110113, -0.18801268],\n",
       "       [ 0.55490204, -0.7131496 , -0.42837061,  0.70303041],\n",
       "       [ 0.        ,  0.        ,  0.        ,  1.        ]])"
      ]
     },
     "execution_count": 10,
     "metadata": {},
     "output_type": "execute_result"
    }
   ],
   "source": [
    "import numpy as np\n",
    "\n",
    "\n",
    "T_95 = np.array([[0.83076029, 0.50215127, 0.24016961, -0.23289293], [0.04382999, -0.48914390, 0.87110113, -0.18801268], [0.55490204, -0.71314960, -0.42837061, 0.70303041], [0.00000000, 0.00000000, 0.00000000, 1.00000000]])\n",
    "p_9 = np.array([[0.46507614], [-0.27464321], [0.00377920]])\n",
    "\n",
    "T_95"
   ]
  },
  {
   "cell_type": "code",
   "execution_count": 11,
   "metadata": {},
   "outputs": [],
   "source": [
    "def extractRT(t):\n",
    "    r = np.matrix([[t[0][0],t[0][1],t[0][2]],[t[1][0],t[1][1],t[1][2]],[t[2][0],t[2][1],t[2][2]]])\n",
    "    p = np.matrix([[t[0][3]],[t[1][3]],[t[2][3]]])\n",
    "    return r,p"
   ]
  },
  {
   "cell_type": "code",
   "execution_count": 12,
   "metadata": {},
   "outputs": [],
   "source": [
    "r,p=extractRT(T_95)"
   ]
  },
  {
   "cell_type": "code",
   "execution_count": 13,
   "metadata": {},
   "outputs": [
    {
     "data": {
      "text/plain": [
       "matrix([[ 0.18839422],\n",
       "        [-0.52634808],\n",
       "        [-0.52086943]])"
      ]
     },
     "execution_count": 13,
     "metadata": {},
     "output_type": "execute_result"
    }
   ],
   "source": [
    "v = np.matmul(r.T, p)\n",
    "v"
   ]
  },
  {
   "cell_type": "code",
   "execution_count": 14,
   "metadata": {},
   "outputs": [
    {
     "data": {
      "text/plain": [
       "matrix([[0.18803205],\n",
       "        [0.89153157],\n",
       "        [0.39170567]])"
      ]
     },
     "execution_count": 14,
     "metadata": {},
     "output_type": "execute_result"
    }
   ],
   "source": [
    "newP = np.matmul(r.T, p_9) - v\n",
    "newP"
   ]
  },
  {
   "cell_type": "code",
   "execution_count": null,
   "metadata": {},
   "outputs": [],
   "source": []
  },
  {
   "cell_type": "code",
   "execution_count": 154,
   "metadata": {},
   "outputs": [
    {
     "data": {
      "text/plain": [
       "[[-1.06818757819], [-0.0225880313576], [0.137456874288]]"
      ]
     },
     "execution_count": 154,
     "metadata": {},
     "output_type": "execute_result"
    }
   ],
   "source": [
    "[[-1.06818757819], [-0.0225880313576], [0.137456874288]]"
   ]
  },
  {
   "cell_type": "code",
   "execution_count": 155,
   "metadata": {},
   "outputs": [],
   "source": [
    "import numpy as np\n",
    "\n",
    "T_81 = np.array([[0.23319927, 0.64338339, 0.72916110, -0.14499569], [-0.94671597, 0.32150308, 0.01909555, -0.70914963], [-0.22214178, -0.69476153, 0.68407561, -0.09615535], [0.00000000, 0.00000000, 0.00000000, 1.00000000]])\n",
    "p_1 = np.array([[-0.73542634], [0.43762420], [0.73257930]])"
   ]
  },
  {
   "cell_type": "code",
   "execution_count": 156,
   "metadata": {},
   "outputs": [],
   "source": [
    "r,p=extractRT(T_81)"
   ]
  },
  {
   "cell_type": "code",
   "execution_count": 158,
   "metadata": {},
   "outputs": [
    {
     "data": {
      "text/plain": [
       "matrix([[0.49923189],\n",
       "        [0.14177676],\n",
       "        [0.26430874]])"
      ]
     },
     "execution_count": 158,
     "metadata": {},
     "output_type": "execute_result"
    }
   ],
   "source": [
    "newP = np.matmul(r, p_1) + p\n",
    "newP"
   ]
  },
  {
   "cell_type": "code",
   "execution_count": 159,
   "metadata": {},
   "outputs": [],
   "source": [
    "import numpy as np\n",
    "\n",
    "T_54 = np.array([[-0.78480162, 0.40257459, 0.47119012, -0.68175557], [0.53696840, 0.82131039, 0.19265042, -0.55358209], [-0.30943717, 0.40420657, -0.86073555, 0.90333128], [0.00000000, 0.00000000, 0.00000000, 1.00000000]])\n",
    "p_5 = np.array([[0.82222292], [-0.11787068], [-0.57198160]])"
   ]
  },
  {
   "cell_type": "code",
   "execution_count": 160,
   "metadata": {},
   "outputs": [],
   "source": [
    "r,p=extractRT(T_54)"
   ]
  },
  {
   "cell_type": "code",
   "execution_count": 161,
   "metadata": {},
   "outputs": [
    {
     "data": {
      "text/plain": [
       "matrix([[-0.04173749],\n",
       "        [-0.36398775],\n",
       "        [-1.20541366]])"
      ]
     },
     "execution_count": 161,
     "metadata": {},
     "output_type": "execute_result"
    }
   ],
   "source": [
    "v = np.matmul(r.T, p)\n",
    "v"
   ]
  },
  {
   "cell_type": "code",
   "execution_count": 165,
   "metadata": {},
   "outputs": [
    {
     "data": {
      "text/plain": [
       "matrix([[-0.48984485],\n",
       "        [ 0.36698667],\n",
       "        [ 2.06245403]])"
      ]
     },
     "execution_count": 165,
     "metadata": {},
     "output_type": "execute_result"
    }
   ],
   "source": [
    "newP = np.matmul(r.T, p_5) - v\n",
    "newP"
   ]
  },
  {
   "cell_type": "markdown",
   "metadata": {},
   "source": [
    "If we need to inverse the vector, r.T * -v"
   ]
  },
  {
   "cell_type": "markdown",
   "metadata": {},
   "source": [
    "Prob 10"
   ]
  },
  {
   "cell_type": "code",
   "execution_count": 189,
   "metadata": {},
   "outputs": [],
   "source": [
    "import numpy as np\n",
    "\n",
    "T_89 = np.array([[-0.50918572, 0.84263683, 0.17519442, 0.65827217], [-0.66079321, -0.25233278, -0.70688082, 0.96351552], [-0.55143652, -0.47570090, 0.68529294, 0.09148563], [0.00000000, 0.00000000, 0.00000000, 1.00000000]])\n",
    "v_8 = np.array([[-0.14927652], [-0.93497573], [0.54084026]])"
   ]
  },
  {
   "cell_type": "code",
   "execution_count": 190,
   "metadata": {},
   "outputs": [
    {
     "data": {
      "text/plain": [
       "matrix([[-0.50918572, -0.66079321, -0.55143652],\n",
       "        [ 0.84263683, -0.25233278, -0.4757009 ],\n",
       "        [ 0.17519442, -0.70688082,  0.68529294]])"
      ]
     },
     "execution_count": 190,
     "metadata": {},
     "output_type": "execute_result"
    }
   ],
   "source": [
    "r,p=extractRT(T_89)\n",
    "r.T"
   ]
  },
  {
   "cell_type": "code",
   "execution_count": 191,
   "metadata": {},
   "outputs": [
    {
     "data": {
      "text/plain": [
       "matrix([[ 0.39559602],\n",
       "        [-0.14713907],\n",
       "        [ 1.00539801]])"
      ]
     },
     "execution_count": 191,
     "metadata": {},
     "output_type": "execute_result"
    }
   ],
   "source": [
    "newv = np.matmul(r.T, v_8)\n",
    "newv"
   ]
  },
  {
   "cell_type": "code",
   "execution_count": null,
   "metadata": {},
   "outputs": [],
   "source": []
  },
  {
   "cell_type": "code",
   "execution_count": null,
   "metadata": {},
   "outputs": [],
   "source": []
  }
 ],
 "metadata": {
  "kernelspec": {
   "display_name": "Python 3",
   "language": "python",
   "name": "python3"
  },
  "language_info": {
   "codemirror_mode": {
    "name": "ipython",
    "version": 3
   },
   "file_extension": ".py",
   "mimetype": "text/x-python",
   "name": "python",
   "nbconvert_exporter": "python",
   "pygments_lexer": "ipython3",
   "version": "3.8.8"
  }
 },
 "nbformat": 4,
 "nbformat_minor": 4
}
