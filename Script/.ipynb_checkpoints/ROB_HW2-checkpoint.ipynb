{
 "cells": [
  {
   "cell_type": "markdown",
   "metadata": {},
   "source": [
    "Prob 1"
   ]
  },
  {
   "cell_type": "code",
   "execution_count": 12,
   "metadata": {},
   "outputs": [],
   "source": [
    "## 此题注意yzy变换\n",
    "import numpy as np\n",
    "\n",
    "theta1 = 1.96\n",
    "theta2 = -3.11\n",
    "theta3 = -0.22"
   ]
  },
  {
   "cell_type": "code",
   "execution_count": 13,
   "metadata": {},
   "outputs": [],
   "source": [
    "import math\n",
    "def matrixX(r):\n",
    "    return np.matrix([[1,0,0],\n",
    "           [0, math.cos(r), -math.sin(r)],\n",
    "           [0,math.sin(r), math.cos(r)]])\n",
    "def matrixY(r):\n",
    "    return np.matrix([[math.cos(r),0,math.sin(r)],\n",
    "           [0, 1,0],\n",
    "           [-math.sin(r),0, math.cos(r)]])\n",
    "def matrixZ(r):\n",
    "    return np.matrix([[math.cos(r),-math.sin(r),0],\n",
    "           [math.sin(r), math.cos(r), 0],\n",
    "           [0,0,1]])"
   ]
  },
  {
   "cell_type": "code",
   "execution_count": 14,
   "metadata": {},
   "outputs": [],
   "source": [
    "m1 = matrixZ(theta1)\n",
    "m2 = matrixY(theta2)\n",
    "m3 = matrixZ(theta3)"
   ]
  },
  {
   "cell_type": "code",
   "execution_count": 15,
   "metadata": {},
   "outputs": [
    {
     "data": {
      "text/plain": [
       "matrix([[ 0.57202979, -0.82014527,  0.01198589],\n",
       "        [-0.81965339, -0.57211382, -0.02922502],\n",
       "        [ 0.03082606,  0.00689331, -0.99950099]])"
      ]
     },
     "execution_count": 15,
     "metadata": {},
     "output_type": "execute_result"
    }
   ],
   "source": [
    "from numpy.linalg import multi_dot\n",
    "multi_dot([m1,m2,m3])"
   ]
  },
  {
   "cell_type": "code",
   "execution_count": null,
   "metadata": {},
   "outputs": [],
   "source": []
  },
  {
   "cell_type": "markdown",
   "metadata": {},
   "source": [
    "Prob 2"
   ]
  },
  {
   "cell_type": "markdown",
   "metadata": {},
   "source": [
    "ZYX calculator"
   ]
  },
  {
   "cell_type": "markdown",
   "metadata": {},
   "source": [
    "https://www.andre-gaschler.com/rotationconverter/"
   ]
  },
  {
   "cell_type": "code",
   "execution_count": 16,
   "metadata": {},
   "outputs": [],
   "source": [
    "## prob 4"
   ]
  },
  {
   "cell_type": "code",
   "execution_count": 33,
   "metadata": {},
   "outputs": [],
   "source": [
    "import numpy as np\n",
    "\n",
    "p_7in0 = np.matrix([[-0.48819525], [-0.07335992], [-0.54055216]])\n",
    "R_7in0 = np.matrix([[0.05849198, 0.04529358, 0.99725984], [-0.95382980, -0.29226271, 0.06921869], [0.29459702, -0.95526488, 0.02610734]])"
   ]
  },
  {
   "cell_type": "code",
   "execution_count": 34,
   "metadata": {},
   "outputs": [
    {
     "data": {
      "text/plain": [
       "matrix([[ 0.05849198, -0.9538298 ,  0.29459702],\n",
       "        [ 0.04529358, -0.29226271, -0.95526488],\n",
       "        [ 0.99725984,  0.06921869,  0.02610734]])"
      ]
     },
     "execution_count": 34,
     "metadata": {},
     "output_type": "execute_result"
    }
   ],
   "source": [
    "R_7in0.T"
   ]
  },
  {
   "cell_type": "code",
   "execution_count": 35,
   "metadata": {},
   "outputs": [
    {
     "data": {
      "text/plain": [
       "matrix([[ 0.11782768],\n",
       "        [-0.51569875],\n",
       "        [ 0.50604777]])"
      ]
     },
     "execution_count": 35,
     "metadata": {},
     "output_type": "execute_result"
    }
   ],
   "source": [
    "R_7in0.T * p_7in0  * -1"
   ]
  },
  {
   "cell_type": "code",
   "execution_count": 28,
   "metadata": {},
   "outputs": [
    {
     "data": {
      "text/plain": [
       "matrix([[-0.98831703, -0.14896034,  0.03225302],\n",
       "        [-0.11984985,  0.89029839,  0.4393231 ],\n",
       "        [-0.09415653,  0.43032498, -0.89774994]])"
      ]
     },
     "execution_count": 28,
     "metadata": {},
     "output_type": "execute_result"
    }
   ],
   "source": [
    "R_1in3.T"
   ]
  },
  {
   "cell_type": "code",
   "execution_count": 29,
   "metadata": {},
   "outputs": [
    {
     "data": {
      "text/plain": [
       "[[0.872367426773], [-0.111337543938], [-0.129519248704]]"
      ]
     },
     "execution_count": 29,
     "metadata": {},
     "output_type": "execute_result"
    }
   ],
   "source": [
    "[[0.872367426773], [-0.111337543938], [-0.129519248704]]"
   ]
  },
  {
   "cell_type": "markdown",
   "metadata": {},
   "source": [
    "Prob 4"
   ]
  },
  {
   "cell_type": "code",
   "execution_count": 23,
   "metadata": {},
   "outputs": [],
   "source": [
    "import numpy as np\n",
    "\n",
    "p_9in4 = np.array([[-0.36889446], [-0.47386900], [-0.86616937]])\n",
    "R_9in4 = np.array([[-0.96103444, -0.01200106, -0.27616804], [-0.09867836, 0.94812697, 0.30218841], [0.25821578, 0.31766528, -0.91236691]])"
   ]
  },
  {
   "cell_type": "code",
   "execution_count": 24,
   "metadata": {},
   "outputs": [
    {
     "data": {
      "text/plain": [
       "array([[-0.96103444, -0.09867836,  0.25821578],\n",
       "       [-0.01200106,  0.94812697,  0.31766528],\n",
       "       [-0.27616804,  0.30218841, -0.91236691]])"
      ]
     },
     "execution_count": 24,
     "metadata": {},
     "output_type": "execute_result"
    }
   ],
   "source": [
    "RI = R_9in4.T\n",
    "RI"
   ]
  },
  {
   "cell_type": "code",
   "execution_count": 26,
   "metadata": {},
   "outputs": [
    {
     "data": {
      "text/plain": [
       "array([[-0.1776223 ],\n",
       "       [ 0.72001279],\n",
       "       [-0.74894341]])"
      ]
     },
     "execution_count": 26,
     "metadata": {},
     "output_type": "execute_result"
    }
   ],
   "source": [
    "RI.dot(p_9in4) * -1"
   ]
  },
  {
   "cell_type": "markdown",
   "metadata": {},
   "source": [
    "Prob 5"
   ]
  },
  {
   "cell_type": "code",
   "execution_count": 42,
   "metadata": {},
   "outputs": [],
   "source": [
    "import numpy as np\n",
    "\n",
    "T_0in2 = np.matrix([[0.28314494, -0.70774480, 0.64724511, 0.37983674], [-0.91886307, -0.39355502, -0.02837425, -0.22026046], [0.27480829, -0.58669561, -0.76175368, 0.19285520], [0.00000000, 0.00000000, 0.00000000, 1.00000000]])\n",
    "T_0in5 = np.matrix([[0.61755949, -0.56653300, 0.54558285, 0.00823333], [-0.77820986, -0.54071909, 0.31939361, -0.32303310], [0.11406004, -0.62182251, -0.77480777, -0.44736560], [0.00000000, 0.00000000, 0.00000000, 1.00000000]])"
   ]
  },
  {
   "cell_type": "code",
   "execution_count": 44,
   "metadata": {},
   "outputs": [
    {
     "data": {
      "text/plain": [
       "matrix([[ 0.92894545,  0.36907089, -0.02910337,  0.47839069],\n",
       "        [-0.3599712 ,  0.91880846,  0.1619004 ,  0.15193752],\n",
       "        [ 0.08649315, -0.13992027,  0.98637784,  0.58821571],\n",
       "        [ 0.        ,  0.        ,  0.        ,  1.        ]])"
      ]
     },
     "execution_count": 44,
     "metadata": {},
     "output_type": "execute_result"
    }
   ],
   "source": [
    "\n",
    "## be care ful here is the inverse and 转换原本作标而非code中坐标\n",
    "(T_0in2 * T_0in5.I)"
   ]
  },
  {
   "cell_type": "markdown",
   "metadata": {},
   "source": [
    "Prob 6"
   ]
  },
  {
   "cell_type": "markdown",
   "metadata": {},
   "source": [
    "https://math.stackexchange.com/questions/258775/from-a-vector-to-a-skew-symmetric-matrix"
   ]
  },
  {
   "cell_type": "markdown",
   "metadata": {},
   "source": [
    "Prob 7"
   ]
  },
  {
   "cell_type": "code",
   "execution_count": 79,
   "metadata": {},
   "outputs": [],
   "source": [
    "def woperationM(w):\n",
    "    return np.array([[0,-w.item(2),w.item(1)],[w.item(2),0,-w.item(0)],[-w.item(1),w.item(0),0]])"
   ]
  },
  {
   "cell_type": "code",
   "execution_count": 80,
   "metadata": {},
   "outputs": [],
   "source": [
    "import numpy as np\n",
    "\n",
    "a = np.matrix([[-5], [ 1], [-1]])"
   ]
  },
  {
   "cell_type": "code",
   "execution_count": 81,
   "metadata": {},
   "outputs": [
    {
     "data": {
      "text/plain": [
       "array([[ 0,  1,  1],\n",
       "       [-1,  0,  5],\n",
       "       [-1, -5,  0]])"
      ]
     },
     "execution_count": 81,
     "metadata": {},
     "output_type": "execute_result"
    }
   ],
   "source": [
    "woperationM(a)"
   ]
  },
  {
   "cell_type": "markdown",
   "metadata": {},
   "source": [
    "Prob 8"
   ]
  },
  {
   "cell_type": "code",
   "execution_count": 89,
   "metadata": {},
   "outputs": [],
   "source": [
    "import numpy as np\n",
    "\n",
    "v_in2 = np.array([[-3], [ 8], [10]])"
   ]
  },
  {
   "cell_type": "code",
   "execution_count": 90,
   "metadata": {},
   "outputs": [
    {
     "data": {
      "text/plain": [
       "array([[  0, -10,   8],\n",
       "       [ 10,   0,   3],\n",
       "       [ -8,  -3,   0]])"
      ]
     },
     "execution_count": 90,
     "metadata": {},
     "output_type": "execute_result"
    }
   ],
   "source": [
    "woperationM(v_in2)"
   ]
  }
 ],
 "metadata": {
  "kernelspec": {
   "display_name": "Python 3",
   "language": "python",
   "name": "python3"
  },
  "language_info": {
   "codemirror_mode": {
    "name": "ipython",
    "version": 3
   },
   "file_extension": ".py",
   "mimetype": "text/x-python",
   "name": "python",
   "nbconvert_exporter": "python",
   "pygments_lexer": "ipython3",
   "version": "3.8.8"
  }
 },
 "nbformat": 4,
 "nbformat_minor": 4
}
