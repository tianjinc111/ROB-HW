{
 "cells": [
  {
   "cell_type": "markdown",
   "metadata": {},
   "source": [
    "##  quesiton 1\n",
    "\n",
    "      w first three in the format of [[][][]]\n",
    "      v last three in the same format\n",
    "      "
   ]
  },
  {
   "cell_type": "code",
   "execution_count": null,
   "metadata": {},
   "outputs": [],
   "source": []
  },
  {
   "cell_type": "code",
   "execution_count": null,
   "metadata": {},
   "outputs": [],
   "source": []
  },
  {
   "cell_type": "code",
   "execution_count": null,
   "metadata": {},
   "outputs": [],
   "source": []
  },
  {
   "cell_type": "markdown",
   "metadata": {},
   "source": [
    "PROB 2"
   ]
  },
  {
   "cell_type": "code",
   "execution_count": 2,
   "metadata": {},
   "outputs": [],
   "source": [
    "import numpy as np\n",
    "\n",
    "V = np.array([[  1], [-10], [  7], [  4], [ -5], [ -1]])"
   ]
  },
  {
   "cell_type": "code",
   "execution_count": 3,
   "metadata": {},
   "outputs": [],
   "source": [
    "def voperationM(w):\n",
    "    return np.array([[0,-w.item(2),w.item(1),w.item(3)],[w.item(2),0,-w.item(0),w.item(4)],[-w.item(1),w.item(0),0,w.item(5)],[0,0,0,0]])\n",
    "def voperationA(w):\n",
    "    return np.array([[0,-w[2][0],w[1][0],w[-3][0]],[w[2][0],0,-w[0][0],w[-2][0]],[-w[1][0],w[0][0],0,w[-1][0]],[0,0,0,0]])"
   ]
  },
  {
   "cell_type": "code",
   "execution_count": 4,
   "metadata": {},
   "outputs": [
    {
     "data": {
      "text/plain": [
       "array([[  0,  -7, -10,   4],\n",
       "       [  7,   0,  -1,  -5],\n",
       "       [ 10,   1,   0,  -1],\n",
       "       [  0,   0,   0,   0]])"
      ]
     },
     "execution_count": 4,
     "metadata": {},
     "output_type": "execute_result"
    }
   ],
   "source": [
    "voperationA(V)"
   ]
  },
  {
   "cell_type": "markdown",
   "metadata": {},
   "source": [
    "PROB 3"
   ]
  },
  {
   "cell_type": "markdown",
   "metadata": {},
   "source": [
    "spatial twist"
   ]
  },
  {
   "cell_type": "code",
   "execution_count": 11,
   "metadata": {},
   "outputs": [],
   "source": [
    "import numpy as np\n",
    "\n",
    "M = np.array([[-0.17552475, 0.10698382, 0.97864474, -0.78612639], [-0.71716430, -0.69491169, -0.05266036, 1.43659258], [0.67443786, -0.71109227, 0.19869918, -1.42648970], [0.00000000, 0.00000000, 0.00000000, 1.00000000]])\n",
    "V_s = np.array([[0.66752031], [0.94825862], [-0.65320298], [0.06894985], [0.58370285], [0.88232485]])"
   ]
  },
  {
   "cell_type": "code",
   "execution_count": 12,
   "metadata": {},
   "outputs": [
    {
     "data": {
      "text/plain": [
       "array([[ 0.        ,  0.65320298,  0.94825862,  0.06894985],\n",
       "       [-0.65320298,  0.        , -0.66752031,  0.58370285],\n",
       "       [-0.94825862,  0.66752031,  0.        ,  0.88232485],\n",
       "       [ 0.        ,  0.        ,  0.        ,  0.        ]])"
      ]
     },
     "execution_count": 12,
     "metadata": {},
     "output_type": "execute_result"
    }
   ],
   "source": [
    "tmp = voperationM(V_s)\n",
    "tmp"
   ]
  },
  {
   "cell_type": "code",
   "execution_count": 13,
   "metadata": {},
   "outputs": [],
   "source": [
    "from scipy.linalg import expm"
   ]
  },
  {
   "cell_type": "code",
   "execution_count": 14,
   "metadata": {},
   "outputs": [
    {
     "data": {
      "text/plain": [
       "array([[ 0.42932934,  0.74917196,  0.50439835,  0.57690316],\n",
       "       [-0.20428507,  0.62456929, -0.75377769,  0.15647367],\n",
       "       [-0.87974083,  0.22057783,  0.42119056,  0.78120069],\n",
       "       [ 0.        ,  0.        ,  0.        ,  1.        ]])"
      ]
     },
     "execution_count": 14,
     "metadata": {},
     "output_type": "execute_result"
    }
   ],
   "source": [
    "ev = expm(tmp)\n",
    "ev"
   ]
  },
  {
   "cell_type": "code",
   "execution_count": 15,
   "metadata": {},
   "outputs": [],
   "source": [
    "ev = np.matrix(ev)"
   ]
  },
  {
   "cell_type": "code",
   "execution_count": 16,
   "metadata": {},
   "outputs": [
    {
     "data": {
      "text/plain": [
       "matrix([[-0.27245196, -0.83335083,  0.48093277,  0.59613186],\n",
       "        [-0.92043793,  0.08012979, -0.38258756,  2.28957528],\n",
       "        [ 0.28029261, -0.5469055 , -0.78887923,  1.18884464],\n",
       "        [ 0.        ,  0.        ,  0.        ,  1.        ]])"
      ]
     },
     "execution_count": 16,
     "metadata": {},
     "output_type": "execute_result"
    }
   ],
   "source": [
    "rslt2= ev*M\n",
    "rslt2"
   ]
  },
  {
   "cell_type": "markdown",
   "metadata": {},
   "source": [
    "body twist"
   ]
  },
  {
   "cell_type": "code",
   "execution_count": 17,
   "metadata": {},
   "outputs": [],
   "source": [
    "import numpy as np\n",
    "\n",
    "M = np.array([[0.03580207, 0.32907957, 0.94362325, 0.29753554], [-0.38771007, -0.86569976, 0.31661464, 1.61636358], [0.92108583, -0.37718770, 0.09659362, 0.85290689], [0.00000000, 0.00000000, 0.00000000, 1.00000000]])\n",
    "V_b = np.array([[-0.43845466], [-0.90522595], [-0.78781854], [-0.59067072], [-0.92541013], [0.10753472]])"
   ]
  },
  {
   "cell_type": "code",
   "execution_count": 18,
   "metadata": {},
   "outputs": [],
   "source": [
    "tmp = voperationM(V_b)\n",
    "ev = expm(tmp)\n",
    "ev = np.matrix(ev)"
   ]
  },
  {
   "cell_type": "code",
   "execution_count": 19,
   "metadata": {},
   "outputs": [
    {
     "data": {
      "text/plain": [
       "matrix([[ 0.65800277,  0.22299095,  0.71924084, -0.027166  ],\n",
       "        [ 0.47925814, -0.86073659, -0.17159301,  2.45173744],\n",
       "        [ 0.58081322,  0.4576107 , -0.67323729,  0.27186209],\n",
       "        [ 0.        ,  0.        ,  0.        ,  1.        ]])"
      ]
     },
     "execution_count": 19,
     "metadata": {},
     "output_type": "execute_result"
    }
   ],
   "source": [
    "rslt=M*ev\n",
    "rslt"
   ]
  },
  {
   "cell_type": "markdown",
   "metadata": {},
   "source": [
    "PROB 4"
   ]
  },
  {
   "cell_type": "code",
   "execution_count": 20,
   "metadata": {},
   "outputs": [],
   "source": [
    "import numpy as np\n",
    "\n",
    "T_1in0 = np.array([[0.71130897, -0.43872681, -0.54914328, -0.79858970], [0.55164204, 0.83262030, 0.04934063, -0.75812798], [0.43558078, -0.33802695, 0.83427044, 0.70429059], [0.00000000, 0.00000000, 0.00000000, 1.00000000]])"
   ]
  },
  {
   "cell_type": "code",
   "execution_count": 21,
   "metadata": {},
   "outputs": [],
   "source": [
    "from scipy.linalg import logm"
   ]
  },
  {
   "cell_type": "code",
   "execution_count": 22,
   "metadata": {},
   "outputs": [],
   "source": [
    "tmp = logm(T_1in0)"
   ]
  },
  {
   "cell_type": "code",
   "execution_count": 23,
   "metadata": {},
   "outputs": [],
   "source": [
    "def toperationM(w):\n",
    "    return np.array([[0,-w.item(2),w.item(1),w.item(3)],[w.item(2),0,-w.item(0),w.item(4)],[-w.item(1),w.item(0),0,w.item(5)],[0,0,0,0]])\n",
    "def toperationA(w):\n",
    "    return np.array([[0,-w[2][0],w[1][0],w[-3][0]],[w[2][0],0,-w[0][0],w[-2][0]],[-w[1][0],w[0][0],0,w[-1][0]],[0,0,0,0]])"
   ]
  },
  {
   "cell_type": "code",
   "execution_count": 24,
   "metadata": {},
   "outputs": [],
   "source": [
    "def tinverse(w):\n",
    "    return np.array([[-w[1][2]],[w[0][2]],[-w[0][1]],[w[0][3]],[w[1][3]],[w[2][3]]])"
   ]
  },
  {
   "cell_type": "code",
   "execution_count": 25,
   "metadata": {},
   "outputs": [
    {
     "data": {
      "text/plain": [
       "array([[-0.2166382 ],\n",
       "       [-0.55071427],\n",
       "       [ 0.55387115],\n",
       "       [-0.78830222],\n",
       "       [-0.6167928 ],\n",
       "       [ 0.84884399]])"
      ]
     },
     "execution_count": 25,
     "metadata": {},
     "output_type": "execute_result"
    }
   ],
   "source": [
    "tinverse(tmp)"
   ]
  },
  {
   "cell_type": "markdown",
   "metadata": {},
   "source": [
    "PROB 5"
   ]
  },
  {
   "cell_type": "code",
   "execution_count": 26,
   "metadata": {},
   "outputs": [],
   "source": [
    "def TposeA(R,P):\n",
    "    return np.matrix([[R[0][0],R[0][1],R[0][2],P[0]], [R[1][0],R[1][1],R[1][2],P[1]], [R[2][0],R[2][1],R[2][2],P[2]],[0.00000000, 0.00000000, 0.00000000, 1.00000000]])\n",
    "def TposeM(R,P):\n",
    "    return np.matrix([[R.item(0),R.item(1),R.item(2),P.item(0)], [R.item(3),R.item(4),R.item(5),P.item(1)], [R.item(6),R.item(7),R.item(8),P.item(2)],[0.00000000, 0.00000000, 0.00000000, 1.00000000]])"
   ]
  },
  {
   "cell_type": "code",
   "execution_count": 30,
   "metadata": {},
   "outputs": [],
   "source": [
    "import numpy as np\n",
    "\n",
    "t = 1.22698724\n",
    "T_1in0 = np.matrix([[-0.80162774, 0.49939971, -0.32862272, -0.40378897], [0.47902358, 0.20769740, -0.85287643, 0.53584419], [-0.35767216, -0.84110744, -0.40572023, -0.59614276], [0.00000000, 0.00000000, 0.00000000, 1.00000000]])\n",
    "p_2in0 = np.matrix([-0.15806413, 0.01982080, -0.80193285])\n",
    "R_2in0 = np.matrix([[-0.90916816, 0.10040080, 0.40414469], [-0.35751835, 0.30944109, -0.88115086], [-0.21352723, -0.94560345, -0.24543885]])"
   ]
  },
  {
   "cell_type": "code",
   "execution_count": null,
   "metadata": {},
   "outputs": [],
   "source": []
  },
  {
   "cell_type": "code",
   "execution_count": 31,
   "metadata": {},
   "outputs": [
    {
     "data": {
      "text/plain": [
       "matrix([[-0.90916816,  0.1004008 ,  0.40414469, -0.15806413],\n",
       "        [-0.35751835,  0.30944109, -0.88115086,  0.0198208 ],\n",
       "        [-0.21352723, -0.94560345, -0.24543885, -0.80193285],\n",
       "        [ 0.        ,  0.        ,  0.        ,  1.        ]])"
      ]
     },
     "execution_count": 31,
     "metadata": {},
     "output_type": "execute_result"
    }
   ],
   "source": [
    "newT = TposeM(R_2in0,p_2in0)\n",
    "newT"
   ]
  },
  {
   "cell_type": "code",
   "execution_count": null,
   "metadata": {},
   "outputs": [],
   "source": []
  },
  {
   "cell_type": "code",
   "execution_count": 32,
   "metadata": {},
   "outputs": [
    {
     "data": {
      "text/plain": [
       "matrix([[ 0.63392745,  0.40596154, -0.65827899, -0.37056184],\n",
       "        [-0.3486946 ,  0.90976433,  0.22525745,  0.18862978],\n",
       "        [ 0.6903246 ,  0.08674146,  0.71828118,  0.44284662],\n",
       "        [ 0.        ,  0.        ,  0.        ,  1.        ]])"
      ]
     },
     "execution_count": 32,
     "metadata": {},
     "output_type": "execute_result"
    }
   ],
   "source": [
    "tmp = T_1in0.I * newT  \n",
    "tmp"
   ]
  },
  {
   "cell_type": "code",
   "execution_count": 33,
   "metadata": {},
   "outputs": [
    {
     "data": {
      "text/plain": [
       "array([[-0.0646075 ],\n",
       "       [-0.62902415],\n",
       "       [-0.35199146],\n",
       "       [-0.17413918],\n",
       "       [ 0.08030742],\n",
       "       [ 0.46866823]])"
      ]
     },
     "execution_count": 33,
     "metadata": {},
     "output_type": "execute_result"
    }
   ],
   "source": [
    "\n",
    "## this is the answer v\n",
    "log = logm(tmp)\n",
    "tinverse(log/t)"
   ]
  },
  {
   "cell_type": "markdown",
   "metadata": {},
   "source": [
    "PROB 6"
   ]
  },
  {
   "cell_type": "code",
   "execution_count": 108,
   "metadata": {},
   "outputs": [],
   "source": [
    "def getP(w):\n",
    "    return np.matrix([w.item(3),w.item(7),w.item(11)])\n",
    "def getR(w):\n",
    "    return np.matrix([[w.item(0),w.item(1),w.item(2)],[w.item(4),w.item(5),w.item(6)],[w.item(8),w.item(9),w.item(10)]])\n",
    "def woperationM(w):\n",
    "    return np.array([[0,-w.item(2),w.item(1)],[w.item(2),0,-w.item(0)],[-w.item(1),w.item(0),0]])\n",
    "def woperationA(w):\n",
    "    return np.array([[0,-w[2][0],w[1][0]],[w[2][0],0,-w[0][0]],[-w[1][0],w[0][0],0]])"
   ]
  },
  {
   "cell_type": "code",
   "execution_count": 100,
   "metadata": {},
   "outputs": [],
   "source": [
    "import numpy as np\n",
    "\n",
    "T = np.matrix([[0.08968597, 0.45768168, 0.88458121, 0.82729475], [-0.98058750, 0.19607152, -0.00202740, 0.71705588], [-0.17436909, -0.86722745, 0.46638180, -0.84973626], [0.00000000, 0.00000000, 0.00000000, 1.00000000]])\n"
   ]
  },
  {
   "cell_type": "code",
   "execution_count": 102,
   "metadata": {},
   "outputs": [
    {
     "data": {
      "text/plain": [
       "(matrix([[ 0.82729475,  0.71705588, -0.84973626]]),\n",
       " matrix([[ 0.08968597,  0.45768168,  0.88458121],\n",
       "         [-0.9805875 ,  0.19607152, -0.0020274 ],\n",
       "         [-0.17436909, -0.86722745,  0.4663818 ]]))"
      ]
     },
     "execution_count": 102,
     "metadata": {},
     "output_type": "execute_result"
    }
   ],
   "source": [
    "p = getP(T)\n",
    "R = getR(T)\n",
    "p,R"
   ]
  },
  {
   "cell_type": "code",
   "execution_count": 104,
   "metadata": {},
   "outputs": [
    {
     "data": {
      "text/plain": [
       "matrix([[-0.95827314, -0.45524146,  0.33269906],\n",
       "        [ 0.06804521,  0.328544  , -1.13749594],\n",
       "        [-0.87554474, -0.1659744 , -0.63597142]])"
      ]
     },
     "execution_count": 104,
     "metadata": {},
     "output_type": "execute_result"
    }
   ],
   "source": [
    "pb = woperationM(p)\n",
    "prod = pb * R\n",
    "prod"
   ]
  },
  {
   "cell_type": "code",
   "execution_count": 105,
   "metadata": {},
   "outputs": [],
   "source": [
    "def adjoint(T):\n",
    "    rslt = np.matrix([[R.item(0),R.item(1),R.item(2),0,0,0],\n",
    "            [R.item(3),R.item(4),R.item(5),0,0,0],\n",
    "            [R.item(6),R.item(7),R.item(8),0,0,0],\n",
    "            [prod.item(0),prod.item(1),prod.item(2),R.item(0),R.item(1),R.item(2)],\n",
    "            [prod.item(3),prod.item(4),prod.item(5),R.item(3),R.item(4),R.item(5)],\n",
    "            [prod.item(6),prod.item(7),prod.item(8),R.item(6),R.item(7),R.item(8)]])\n",
    "    \n",
    "    return rslt.round(2)"
   ]
  },
  {
   "cell_type": "code",
   "execution_count": 106,
   "metadata": {},
   "outputs": [
    {
     "data": {
      "text/plain": [
       "array([[ 0.09,  0.46,  0.88,  0.  ,  0.  ,  0.  ],\n",
       "       [-0.98,  0.2 , -0.  ,  0.  ,  0.  ,  0.  ],\n",
       "       [-0.17, -0.87,  0.47,  0.  ,  0.  ,  0.  ],\n",
       "       [-0.96, -0.46,  0.33,  0.09,  0.46,  0.88],\n",
       "       [ 0.07,  0.33, -1.14, -0.98,  0.2 , -0.  ],\n",
       "       [-0.88, -0.17, -0.64, -0.17, -0.87,  0.47]])"
      ]
     },
     "execution_count": 106,
     "metadata": {},
     "output_type": "execute_result"
    }
   ],
   "source": [
    "adjoint(T)"
   ]
  },
  {
   "cell_type": "markdown",
   "metadata": {},
   "source": [
    "PROB 7"
   ]
  },
  {
   "cell_type": "code",
   "execution_count": 164,
   "metadata": {},
   "outputs": [],
   "source": [
    "import numpy as np\n",
    "\n",
    "V_sb_in_b = np.matrix([[-0.78949701], [-0.85595466], [-0.75776180], [-0.69853201], [-0.23164745], [-0.18687073]])\n",
    "T_sb = np.matrix([[-0.54576888, 0.06390576, -0.83549529, 0.90722895], [-0.55375122, -0.77583763, 0.30238314, -0.21585283], [-0.62888466, 0.62768784, 0.45881593, 0.41922595], [0.00000000, 0.00000000, 0.00000000, 1.00000000]])\n"
   ]
  },
  {
   "cell_type": "code",
   "execution_count": 165,
   "metadata": {},
   "outputs": [
    {
     "data": {
      "text/plain": [
       "matrix([[ 0.44513782,  0.82338436, -0.35198085, -0.60762607],\n",
       "        [-0.24954958,  0.49156644,  0.83431855, -0.11733932],\n",
       "        [ 0.85998682, -0.28355007,  0.42429004, -0.41070432],\n",
       "        [ 0.        ,  0.        ,  0.        ,  1.        ]])"
      ]
     },
     "execution_count": 165,
     "metadata": {},
     "output_type": "execute_result"
    }
   ],
   "source": [
    "vp = voperationM(V_sb_in_b)\n",
    "eb = expm(vp)\n",
    "eb = np.matrix(eb)\n",
    "eb"
   ]
  },
  {
   "cell_type": "code",
   "execution_count": 166,
   "metadata": {},
   "outputs": [
    {
     "data": {
      "text/plain": [
       "matrix([[-0.97740496, -0.18105889, -0.10907437,  1.57449522],\n",
       "        [ 0.20715986, -0.92306659, -0.32408775,  0.08746704],\n",
       "        [-0.04200394, -0.3393608 ,  0.939718  ,  0.53926252],\n",
       "        [ 0.        ,  0.        ,  0.        ,  1.        ]])"
      ]
     },
     "execution_count": 166,
     "metadata": {},
     "output_type": "execute_result"
    }
   ],
   "source": [
    "rslt = T_sb * eb\n",
    "rslt"
   ]
  },
  {
   "cell_type": "code",
   "execution_count": 167,
   "metadata": {},
   "outputs": [
    {
     "data": {
      "text/plain": [
       "array([[ 0.61299763,  0.64872923,  0.45098147,  0.96933293],\n",
       "       [ 0.09872311,  0.5034361 , -0.85837396,  0.46642333],\n",
       "       [-0.78389263,  0.57070349,  0.24456056,  1.27109444],\n",
       "       [ 0.        ,  0.        ,  0.        ,  1.        ]])"
      ]
     },
     "execution_count": 167,
     "metadata": {},
     "output_type": "execute_result"
    }
   ],
   "source": [
    "es = rslt * T_sb.I\n",
    "es = np.array(es)\n",
    "es\n"
   ]
  },
  {
   "cell_type": "code",
   "execution_count": 168,
   "metadata": {},
   "outputs": [
    {
     "data": {
      "text/plain": [
       "matrix([[-0.97740496, -0.18105889, -0.10907437,  1.57449522],\n",
       "        [ 0.20715986, -0.92306659, -0.32408775,  0.08746704],\n",
       "        [-0.04200394, -0.3393608 ,  0.939718  ,  0.53926252],\n",
       "        [ 0.        ,  0.        ,  0.        ,  1.        ]])"
      ]
     },
     "execution_count": 168,
     "metadata": {},
     "output_type": "execute_result"
    }
   ],
   "source": [
    "es * T_sb"
   ]
  },
  {
   "cell_type": "code",
   "execution_count": 169,
   "metadata": {},
   "outputs": [],
   "source": [
    "def tinverse(w):\n",
    "    return np.array([[-w[1][2]],[w[0][2]],[-w[0][1]],[w[0][3]],[w[1][3]],[w[2][3]]])"
   ]
  },
  {
   "cell_type": "code",
   "execution_count": 170,
   "metadata": {},
   "outputs": [
    {
     "data": {
      "text/plain": [
       "array([[ 1.00928889],\n",
       "       [ 0.87213237],\n",
       "       [-0.38844295],\n",
       "       [ 0.24078903],\n",
       "       [ 1.285554  ],\n",
       "       [ 1.21723611]])"
      ]
     },
     "execution_count": 170,
     "metadata": {},
     "output_type": "execute_result"
    }
   ],
   "source": [
    "tinverse(logm(es))"
   ]
  },
  {
   "cell_type": "code",
   "execution_count": 151,
   "metadata": {},
   "outputs": [
    {
     "data": {
      "text/plain": [
       "[[-0.922161870703],\n",
       " [-0.176762685611],\n",
       " [0.684752833848],\n",
       " [-0.83599192518],\n",
       " [-0.785486459764],\n",
       " [-0.184403103]]"
      ]
     },
     "execution_count": 151,
     "metadata": {},
     "output_type": "execute_result"
    }
   ],
   "source": [
    "[[-0.922161870703], [-0.176762685611], [0.684752833848], [-0.83599192518], [-0.785486459764], [-0.184403103]]"
   ]
  },
  {
   "cell_type": "markdown",
   "metadata": {},
   "source": [
    "PROB 8"
   ]
  },
  {
   "cell_type": "code",
   "execution_count": 183,
   "metadata": {},
   "outputs": [],
   "source": [
    "import numpy as np\n",
    "\n",
    "T_sb = np.matrix([[0.05821971, 0.88249154, 0.46671100, -0.44647708], [-0.57729689, 0.41116989, -0.70545561, -0.15911268], [-0.81445611, -0.22835939, 0.53339781, 0.75795360], [0.00000000, 0.00000000, 0.00000000, 1.00000000]])\n",
    "V_sb_in_s = np.matrix([[0.67393960], [-0.43488707], [-0.15940024], [0.26662712], [-0.78282622], [0.26257057]])\n",
    "q_B = np.matrix([[0.80244112], [-1.58869821], [1.44557225], [1.00000000]])\n"
   ]
  },
  {
   "cell_type": "code",
   "execution_count": 184,
   "metadata": {},
   "outputs": [
    {
     "data": {
      "text/plain": [
       "matrix([[ 0.89857848,  0.00366178, -0.43879756,  0.1768683 ],\n",
       "        [-0.28077613,  0.77326767, -0.56852606, -0.83572133],\n",
       "        [ 0.33722615,  0.63406916,  0.69586983,  0.02738506],\n",
       "        [ 0.        ,  0.        ,  0.        ,  1.        ]])"
      ]
     },
     "execution_count": 184,
     "metadata": {},
     "output_type": "execute_result"
    }
   ],
   "source": [
    "vp = voperationM(V_sb_in_s)\n",
    "es = expm(vp)\n",
    "es = np.matrix(es)\n",
    "es"
   ]
  },
  {
   "cell_type": "code",
   "execution_count": 185,
   "metadata": {},
   "outputs": [
    {
     "data": {
      "text/plain": [
       "matrix([[ 4.07582402e-01,  8.94697066e-01,  1.82739580e-01,\n",
       "         -5.57497228e-01],\n",
       "        [ 2.87798191e-04,  1.99990091e-01, -9.79797876e-01,\n",
       "         -1.26431429e+00],\n",
       "        [-9.13168381e-01,  3.99400966e-01,  8.12549485e-02,\n",
       "          3.03369912e-01],\n",
       "        [ 0.00000000e+00,  0.00000000e+00,  0.00000000e+00,\n",
       "          1.00000000e+00]])"
      ]
     },
     "execution_count": 185,
     "metadata": {},
     "output_type": "execute_result"
    }
   ],
   "source": [
    "rslt = es* T_sb \n",
    "rslt"
   ]
  },
  {
   "cell_type": "code",
   "execution_count": 186,
   "metadata": {},
   "outputs": [
    {
     "data": {
      "text/plain": [
       "array([[ 0.76729876, -0.38865922,  0.51009473,  1.00180436],\n",
       "       [ 0.56833692,  0.78058553, -0.26015259, -0.44859151],\n",
       "       [-0.29706186,  0.48952043,  0.81983169,  0.48538241],\n",
       "       [ 0.        ,  0.        ,  0.        ,  1.        ]])"
      ]
     },
     "execution_count": 186,
     "metadata": {},
     "output_type": "execute_result"
    }
   ],
   "source": [
    "eb = T_sb.I*rslt\n",
    "eb = np.array(eb)\n",
    "eb\n"
   ]
  },
  {
   "cell_type": "code",
   "execution_count": 187,
   "metadata": {},
   "outputs": [
    {
     "data": {
      "text/plain": [
       "matrix([[ 4.07582402e-01,  8.94697066e-01,  1.82739580e-01,\n",
       "         -5.57497228e-01],\n",
       "        [ 2.87798191e-04,  1.99990091e-01, -9.79797876e-01,\n",
       "         -1.26431429e+00],\n",
       "        [-9.13168381e-01,  3.99400966e-01,  8.12549485e-02,\n",
       "          3.03369912e-01],\n",
       "        [ 0.00000000e+00,  0.00000000e+00,  0.00000000e+00,\n",
       "          1.00000000e+00]])"
      ]
     },
     "execution_count": 187,
     "metadata": {},
     "output_type": "execute_result"
    }
   ],
   "source": [
    "T_sb * eb"
   ]
  },
  {
   "cell_type": "code",
   "execution_count": 188,
   "metadata": {},
   "outputs": [
    {
     "data": {
      "text/plain": [
       "matrix([[ 2.23811785],\n",
       "        [-0.74871449],\n",
       "        [-0.2299649 ],\n",
       "        [ 0.        ]])"
      ]
     },
     "execution_count": 188,
     "metadata": {},
     "output_type": "execute_result"
    }
   ],
   "source": [
    "logm(eb) * q_B"
   ]
  }
 ],
 "metadata": {
  "kernelspec": {
   "display_name": "Python 3",
   "language": "python",
   "name": "python3"
  },
  "language_info": {
   "codemirror_mode": {
    "name": "ipython",
    "version": 3
   },
   "file_extension": ".py",
   "mimetype": "text/x-python",
   "name": "python",
   "nbconvert_exporter": "python",
   "pygments_lexer": "ipython3",
   "version": "3.8.8"
  }
 },
 "nbformat": 4,
 "nbformat_minor": 4
}
