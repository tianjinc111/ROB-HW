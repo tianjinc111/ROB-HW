{
 "cells": [
  {
   "cell_type": "code",
   "execution_count": 1,
   "metadata": {},
   "outputs": [],
   "source": [
    "def woperationM(w):\n",
    "    return np.array([[0,-w.item(2),w.item(1)],[w.item(2),0,-w.item(0)],[-w.item(1),w.item(0),0]])\n",
    "def woperationA(w):\n",
    "    return np.array([[0,-w[2][0],w[1][0]],[w[2][0],0,-w[0][0]],[-w[1][0],w[0][0],0]])"
   ]
  },
  {
   "cell_type": "markdown",
   "metadata": {},
   "source": [
    "PROB 1"
   ]
  },
  {
   "cell_type": "code",
   "execution_count": 6,
   "metadata": {},
   "outputs": [],
   "source": [
    "import numpy as np\n",
    "\n",
    "R_1in0 = np.array([[-0.14885126, -0.98883891, -0.00639665], [-0.40698158, 0.06715638, -0.91096433], [0.90122655, -0.13299487, -0.41243553]])\n",
    "w_01in1 = np.array([[-0.34399431], [-0.20884387], [-0.10753450]])"
   ]
  },
  {
   "cell_type": "code",
   "execution_count": 7,
   "metadata": {},
   "outputs": [
    {
     "data": {
      "text/plain": [
       "array([[ 0.        ,  0.1075345 , -0.20884387],\n",
       "       [-0.1075345 ,  0.        ,  0.34399431],\n",
       "       [ 0.20884387, -0.34399431,  0.        ]])"
      ]
     },
     "execution_count": 7,
     "metadata": {},
     "output_type": "execute_result"
    }
   ],
   "source": [
    "woperationM(w_01in1)"
   ]
  },
  {
   "cell_type": "code",
   "execution_count": 8,
   "metadata": {},
   "outputs": [
    {
     "data": {
      "text/plain": [
       "array([[ 0.1049984 , -0.01380623, -0.30906829],\n",
       "       [-0.19747094,  0.26960199,  0.10809702],\n",
       "       [-0.0718331 ,  0.23878842, -0.23396512]])"
      ]
     },
     "execution_count": 8,
     "metadata": {},
     "output_type": "execute_result"
    }
   ],
   "source": [
    "R_1in0.dot(woperationM(w_01in1))"
   ]
  },
  {
   "cell_type": "markdown",
   "metadata": {},
   "source": [
    "PROB 2"
   ]
  },
  {
   "cell_type": "code",
   "execution_count": 12,
   "metadata": {},
   "outputs": [],
   "source": [
    "import numpy as np\n",
    "\n",
    "w_01in0 = np.array([[0.76532475], [-0.86192317], [0.22249898]])\n",
    "w_01in1 = np.array([[0.90440022], [-0.71736486], [-0.21351162]])"
   ]
  },
  {
   "cell_type": "code",
   "execution_count": 13,
   "metadata": {},
   "outputs": [
    {
     "data": {
      "text/plain": [
       "array([[ 0.        , -0.22249898, -0.86192317],\n",
       "       [ 0.22249898,  0.        , -0.76532475],\n",
       "       [ 0.86192317,  0.76532475,  0.        ]])"
      ]
     },
     "execution_count": 13,
     "metadata": {},
     "output_type": "execute_result"
    }
   ],
   "source": [
    "woperationM(w_01in0)"
   ]
  },
  {
   "cell_type": "markdown",
   "metadata": {},
   "source": [
    "R-1在右边， 取左边w；R-1在左边，取右边w"
   ]
  },
  {
   "cell_type": "markdown",
   "metadata": {},
   "source": [
    "PROB 3"
   ]
  },
  {
   "cell_type": "code",
   "execution_count": 18,
   "metadata": {},
   "outputs": [],
   "source": [
    "import numpy as np\n",
    "\n",
    "w01 = np.array([[-2.85], [2.17], [-2.51]])\n",
    "t = 2.61"
   ]
  },
  {
   "cell_type": "code",
   "execution_count": 19,
   "metadata": {},
   "outputs": [],
   "source": [
    "tmp = woperationM(w01).dot(t)"
   ]
  },
  {
   "cell_type": "code",
   "execution_count": 20,
   "metadata": {},
   "outputs": [],
   "source": [
    "from scipy.linalg import expm"
   ]
  },
  {
   "cell_type": "code",
   "execution_count": 21,
   "metadata": {},
   "outputs": [
    {
     "data": {
      "text/plain": [
       "array([[ 0.65944089, -0.715186  , -0.23161759],\n",
       "       [ 0.33255582,  0.55384251, -0.76332503],\n",
       "       [ 0.67419904,  0.42634196,  0.60306566]])"
      ]
     },
     "execution_count": 21,
     "metadata": {},
     "output_type": "execute_result"
    }
   ],
   "source": [
    "expm(tmp)"
   ]
  },
  {
   "cell_type": "markdown",
   "metadata": {},
   "source": [
    "PROB 4"
   ]
  },
  {
   "cell_type": "markdown",
   "metadata": {},
   "source": [
    "given R01,w10, 求01"
   ]
  },
  {
   "cell_type": "code",
   "execution_count": 22,
   "metadata": {},
   "outputs": [],
   "source": [
    "\n",
    "import numpy as np\n",
    "\n",
    "R_1in0 = np.array([[-0.89846740, 0.01288816, 0.43885104], [-0.43856153, -0.07301185, -0.89573046], [0.02049701, -0.99724780, 0.07125102]])\n",
    "w_10in0 = np.array([[-0.16803344], [0.28691869], [-0.05056133]])"
   ]
  },
  {
   "cell_type": "code",
   "execution_count": 23,
   "metadata": {},
   "outputs": [
    {
     "data": {
      "text/plain": [
       "array([[-0.02410471],\n",
       "       [-0.02730807],\n",
       "       [ 0.33434601]])"
      ]
     },
     "execution_count": 23,
     "metadata": {},
     "output_type": "execute_result"
    }
   ],
   "source": [
    "R_1in0.T.dot(w_10in0)*-1"
   ]
  },
  {
   "cell_type": "markdown",
   "metadata": {},
   "source": [
    "given R01,w01,求w10"
   ]
  },
  {
   "cell_type": "code",
   "execution_count": 24,
   "metadata": {},
   "outputs": [],
   "source": [
    "import numpy as np\n",
    "\n",
    "R_1in0 = np.array([[0.07043566, 0.26761175, -0.96094889], [-0.87656946, 0.47638756, 0.06841691], [0.47609327, 0.83751946, 0.26813496]])\n",
    "w_01in1 = np.array([[-0.05595070], [-0.82627535], [-0.37789872]])"
   ]
  },
  {
   "cell_type": "code",
   "execution_count": 25,
   "metadata": {},
   "outputs": [
    {
     "data": {
      "text/plain": [
       "array([[-0.13807944],\n",
       "       [ 0.37043729],\n",
       "       [ 0.81998729]])"
      ]
     },
     "execution_count": 25,
     "metadata": {},
     "output_type": "execute_result"
    }
   ],
   "source": [
    "R_1in0.dot(w_01in1)*-1"
   ]
  },
  {
   "cell_type": "markdown",
   "metadata": {},
   "source": [
    "PROB 5"
   ]
  },
  {
   "cell_type": "code",
   "execution_count": 33,
   "metadata": {},
   "outputs": [],
   "source": [
    "import numpy as np\n",
    "\n",
    "R = np.array([[0.11576982, -0.95621189, 0.26880507], [0.98095725, 0.06757816, -0.18208809], [0.15594944, 0.28476658, 0.94582650]])"
   ]
  },
  {
   "cell_type": "code",
   "execution_count": 34,
   "metadata": {},
   "outputs": [],
   "source": [
    "def inverswop(w):\n",
    "    \n",
    "    return np.matrix([[w.item(7)],[w.item(2)],[w.item(3)]])"
   ]
  },
  {
   "cell_type": "code",
   "execution_count": 35,
   "metadata": {},
   "outputs": [
    {
     "data": {
      "text/plain": [
       "1.12917448"
      ]
     },
     "execution_count": 35,
     "metadata": {},
     "output_type": "execute_result"
    }
   ],
   "source": [
    "trace_r = np.trace(R)\n",
    "trace_r"
   ]
  },
  {
   "cell_type": "code",
   "execution_count": 36,
   "metadata": {},
   "outputs": [],
   "source": [
    "import math\n",
    "theta = (math.acos(0.5 * (trace_r - 1)))"
   ]
  },
  {
   "cell_type": "code",
   "execution_count": 37,
   "metadata": {},
   "outputs": [
    {
     "data": {
      "text/plain": [
       "1.5061640978881743"
      ]
     },
     "execution_count": 37,
     "metadata": {},
     "output_type": "execute_result"
    }
   ],
   "source": [
    "theta"
   ]
  },
  {
   "cell_type": "code",
   "execution_count": 38,
   "metadata": {},
   "outputs": [
    {
     "data": {
      "text/plain": [
       "array([[ 0.        , -0.97061114,  0.05654588],\n",
       "       [ 0.97061114,  0.        , -0.23391574],\n",
       "       [-0.05654588,  0.23391574,  0.        ]])"
      ]
     },
     "execution_count": 38,
     "metadata": {},
     "output_type": "execute_result"
    }
   ],
   "source": [
    "w_hat = 1/(2*math.sin(theta)) * (R - R.transpose())\n",
    "w_hat"
   ]
  },
  {
   "cell_type": "code",
   "execution_count": 39,
   "metadata": {},
   "outputs": [
    {
     "data": {
      "text/plain": [
       "matrix([[0.23391574],\n",
       "        [0.05654588],\n",
       "        [0.97061114]])"
      ]
     },
     "execution_count": 39,
     "metadata": {},
     "output_type": "execute_result"
    }
   ],
   "source": [
    "inverswop(w_hat)\n"
   ]
  },
  {
   "cell_type": "markdown",
   "metadata": {},
   "source": [
    "PROB 6"
   ]
  },
  {
   "cell_type": "code",
   "execution_count": 40,
   "metadata": {},
   "outputs": [],
   "source": [
    "## need to converted into matrix"
   ]
  },
  {
   "cell_type": "code",
   "execution_count": 67,
   "metadata": {},
   "outputs": [],
   "source": [
    "import numpy as np\n",
    "\n",
    "R_1in0 = np.matrix([[0.86457925, 0.04077665, -0.50083928], [0.03582933, 0.98916265, 0.14238508], [0.50121750, -0.14104792, 0.85374850]])\n",
    "R_2in0 = np.matrix([[0.96159941, 0.09404513, 0.25784120], [-0.21841003, 0.83112461, 0.51139900], [-0.16620359, -0.54807608, 0.81974934]])"
   ]
  },
  {
   "cell_type": "code",
   "execution_count": 68,
   "metadata": {},
   "outputs": [
    {
     "data": {
      "text/plain": [
       "matrix([[ 0.70607674, -0.41107101, -0.57660754],\n",
       "        [ 0.16419213,  0.88710753, -0.43137128],\n",
       "        [ 0.68883713,  0.2099068 ,  0.69386061]])"
      ]
     },
     "execution_count": 68,
     "metadata": {},
     "output_type": "execute_result"
    }
   ],
   "source": [
    "R=R_1in0 * R_2in0.I\n",
    "R"
   ]
  },
  {
   "cell_type": "code",
   "execution_count": 69,
   "metadata": {},
   "outputs": [
    {
     "data": {
      "text/plain": [
       "2.2870448835614425"
      ]
     },
     "execution_count": 69,
     "metadata": {},
     "output_type": "execute_result"
    }
   ],
   "source": [
    "trace_r = np.trace(R)\n",
    "trace_r"
   ]
  },
  {
   "cell_type": "code",
   "execution_count": 70,
   "metadata": {},
   "outputs": [
    {
     "data": {
      "text/plain": [
       "0.8717049843091923"
      ]
     },
     "execution_count": 70,
     "metadata": {},
     "output_type": "execute_result"
    }
   ],
   "source": [
    "theta = (math.acos(0.5 * (trace_r - 1)))\n",
    "theta"
   ]
  },
  {
   "cell_type": "code",
   "execution_count": 71,
   "metadata": {},
   "outputs": [
    {
     "data": {
      "text/plain": [
       "matrix([[ 0.        , -0.37577911, -0.82662636],\n",
       "        [ 0.37577911,  0.        , -0.41890205],\n",
       "        [ 0.82662636,  0.41890205,  0.        ]])"
      ]
     },
     "execution_count": 71,
     "metadata": {},
     "output_type": "execute_result"
    }
   ],
   "source": [
    "w_hat = 1/(2*math.sin(theta)) * (R - R.transpose())\n",
    "w_hat"
   ]
  },
  {
   "cell_type": "code",
   "execution_count": 73,
   "metadata": {},
   "outputs": [
    {
     "data": {
      "text/plain": [
       "matrix([[-0.41890205],\n",
       "        [ 0.82662636],\n",
       "        [-0.37577911]])"
      ]
     },
     "execution_count": 73,
     "metadata": {},
     "output_type": "execute_result"
    }
   ],
   "source": [
    "inverswop(w_hat) * -1"
   ]
  },
  {
   "cell_type": "markdown",
   "metadata": {},
   "source": [
    "R2 in R1, w0: R2.I"
   ]
  },
  {
   "cell_type": "markdown",
   "metadata": {},
   "source": [
    "R1 in R2, w0: R2.I, * -1"
   ]
  },
  {
   "cell_type": "markdown",
   "metadata": {},
   "source": [
    "R2 in R1, w2: R1.I, -1"
   ]
  },
  {
   "cell_type": "markdown",
   "metadata": {},
   "source": [
    "R1 in R2, w1: R1.I"
   ]
  },
  {
   "cell_type": "markdown",
   "metadata": {},
   "source": [
    "R1 in R2,w2:R1.I"
   ]
  },
  {
   "cell_type": "markdown",
   "metadata": {},
   "source": [
    "R2 in R1,w1:R1.I,-1"
   ]
  },
  {
   "cell_type": "markdown",
   "metadata": {},
   "source": [
    "PROB 7\n",
    "\n",
    "HW3.7. Find the velocity of a point on a body after a constant angular velocity is applied"
   ]
  },
  {
   "cell_type": "code",
   "execution_count": 286,
   "metadata": {},
   "outputs": [],
   "source": [
    "import numpy as np\n",
    "\n",
    "R01 = np.matrix([[-0.279823811502, -0.865989196787, 0.414441003721], [-0.923987814799, 0.360133102472, 0.128649394120], [-0.260662909942, -0.346939273581, -0.900937282960]])\n",
    "w1 = np.matrix([[-1.640000000000], [0.410000000000], [-0.620000000000]])\n",
    "t = 10.490000000000\n",
    "p1 = np.matrix([[-0.450000000000], [-0.770000000000], [1.960000000000]])\n",
    "\n",
    "\n",
    "\n"
   ]
  },
  {
   "cell_type": "code",
   "execution_count": 112,
   "metadata": {},
   "outputs": [],
   "source": [
    "import numpy as np\n",
    "\n",
    "R01 = np.matrix([[0.265221000371, -0.669596594174, 0.693756601434], [-0.947857793794, -0.049204392948, 0.314872244662], [-0.176701510198, -0.741093333383, -0.647732388806]])\n",
    "w1 = np.matrix([[1.320000000000], [-0.060000000000], [-2.400000000000]])\n",
    "t = 5.690000000000\n",
    "p1 = np.matrix([[2.050000000000], [0.720000000000], [0.300000000000]])"
   ]
  },
  {
   "cell_type": "code",
   "execution_count": 113,
   "metadata": {},
   "outputs": [
    {
     "data": {
      "text/plain": [
       "matrix([[-0.53029871,  0.08299182, -0.84373908],\n",
       "        [-0.12504875, -0.99196908, -0.01897758],\n",
       "        [-0.83853807,  0.09544473,  0.53641794]])"
      ]
     },
     "execution_count": 113,
     "metadata": {},
     "output_type": "execute_result"
    }
   ],
   "source": [
    "from scipy.linalg import expm\n",
    "tmp = woperationM(w1) *t\n",
    "R1 = np.matrix(expm(tmp))\n",
    "R1"
   ]
  },
  {
   "cell_type": "markdown",
   "metadata": {},
   "source": [
    "If the rotation is around frame 0, \n",
    "R_{01}(t) = exp()*R01\n",
    "\n",
    "If the rotation is around frame 1, \n",
    "R_{01}(t) = R_{01}*exp()"
   ]
  },
  {
   "cell_type": "code",
   "execution_count": 114,
   "metadata": {},
   "outputs": [
    {
     "data": {
      "text/plain": [
       "matrix([[-6.38655459e-01,  7.52445703e-01,  1.61073491e-01],\n",
       "        [ 2.44768345e-01,  1.97689851e-04,  9.69581569e-01],\n",
       "        [ 7.29525642e-01,  6.58654253e-01, -1.84301145e-01]])"
      ]
     },
     "execution_count": 114,
     "metadata": {},
     "output_type": "execute_result"
    }
   ],
   "source": [
    "newR =  R01 * R1\n",
    "newR"
   ]
  },
  {
   "cell_type": "code",
   "execution_count": 115,
   "metadata": {},
   "outputs": [
    {
     "data": {
      "text/plain": [
       "matrix([[-0.71916074],\n",
       "        [ 0.79279191],\n",
       "        [ 1.91446829]])"
      ]
     },
     "execution_count": 115,
     "metadata": {},
     "output_type": "execute_result"
    }
   ],
   "source": [
    "p0 = newR * p1\n",
    "p0"
   ]
  },
  {
   "cell_type": "code",
   "execution_count": 116,
   "metadata": {},
   "outputs": [
    {
     "data": {
      "text/plain": [
       "matrix([[-1.79620528, -1.32015609, -0.954909  ],\n",
       "        [ 0.05770044,  1.8672917 , -0.01494705],\n",
       "        [-1.59182828,  1.50758403, -0.91319515]])"
      ]
     },
     "execution_count": 116,
     "metadata": {},
     "output_type": "execute_result"
    }
   ],
   "source": [
    "newW = newR*woperationM(w1)\n",
    "newW"
   ]
  },
  {
   "cell_type": "code",
   "execution_count": 117,
   "metadata": {},
   "outputs": [
    {
     "data": {
      "text/plain": [
       "matrix([[-4.9192059 ],\n",
       "        [ 1.45825181],\n",
       "        [-2.45174601]])"
      ]
     },
     "execution_count": 117,
     "metadata": {},
     "output_type": "execute_result"
    }
   ],
   "source": [
    "newW*p1"
   ]
  },
  {
   "cell_type": "code",
   "execution_count": 118,
   "metadata": {},
   "outputs": [
    {
     "data": {
      "text/plain": [
       "matrix([[ 0.26972048],\n",
       "        [-1.88407397],\n",
       "        [-1.09014501]])"
      ]
     },
     "execution_count": 118,
     "metadata": {},
     "output_type": "execute_result"
    }
   ],
   "source": [
    "R01.dot(p1)"
   ]
  },
  {
   "cell_type": "code",
   "execution_count": 119,
   "metadata": {},
   "outputs": [
    {
     "data": {
      "text/plain": [
       "[[0.828005209525], [3.25176478563], [10.5940523404]]"
      ]
     },
     "execution_count": 119,
     "metadata": {},
     "output_type": "execute_result"
    }
   ],
   "source": [
    "[[0.828005209525], [3.25176478563], [10.5940523404]]"
   ]
  },
  {
   "cell_type": "code",
   "execution_count": 120,
   "metadata": {},
   "outputs": [
    {
     "data": {
      "text/plain": [
       "matrix([[ 1.71  ],\n",
       "        [-5.316 ],\n",
       "        [ 1.0734]])"
      ]
     },
     "execution_count": 120,
     "metadata": {},
     "output_type": "execute_result"
    }
   ],
   "source": [
    "## here is the V1\n",
    "woperationM(w1)*p1"
   ]
  },
  {
   "cell_type": "code",
   "execution_count": 121,
   "metadata": {},
   "outputs": [
    {
     "data": {
      "text/plain": [
       "matrix([[ 0.26972048],\n",
       "        [-1.88407397],\n",
       "        [-1.09014501]])"
      ]
     },
     "execution_count": 121,
     "metadata": {},
     "output_type": "execute_result"
    }
   ],
   "source": [
    "R01*p1"
   ]
  },
  {
   "cell_type": "code",
   "execution_count": null,
   "metadata": {},
   "outputs": [],
   "source": []
  }
 ],
 "metadata": {
  "kernelspec": {
   "display_name": "Python 3",
   "language": "python",
   "name": "python3"
  },
  "language_info": {
   "codemirror_mode": {
    "name": "ipython",
    "version": 3
   },
   "file_extension": ".py",
   "mimetype": "text/x-python",
   "name": "python",
   "nbconvert_exporter": "python",
   "pygments_lexer": "ipython3",
   "version": "3.8.8"
  }
 },
 "nbformat": 4,
 "nbformat_minor": 4
}
