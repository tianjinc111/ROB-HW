{
 "cells": [
  {
   "cell_type": "markdown",
   "metadata": {},
   "source": [
    "##  quesiton 1\n",
    "\n",
    "      w first three in the format of [[][][]]\n",
    "      v last three in the same format\n",
    "      "
   ]
  },
  {
   "cell_type": "code",
   "execution_count": null,
   "metadata": {},
   "outputs": [],
   "source": []
  },
  {
   "cell_type": "code",
   "execution_count": null,
   "metadata": {},
   "outputs": [],
   "source": []
  },
  {
   "cell_type": "code",
   "execution_count": null,
   "metadata": {},
   "outputs": [],
   "source": []
  },
  {
   "cell_type": "markdown",
   "metadata": {},
   "source": [
    "PROB 2"
   ]
  },
  {
   "cell_type": "code",
   "execution_count": 2,
   "metadata": {},
   "outputs": [],
   "source": [
    "import numpy as np\n",
    "\n",
    "V = np.array([[  1], [-10], [  7], [  4], [ -5], [ -1]])"
   ]
  },
  {
   "cell_type": "code",
   "execution_count": 3,
   "metadata": {},
   "outputs": [],
   "source": [
    "def voperationM(w):\n",
    "    return np.array([[0,-w.item(2),w.item(1),w.item(3)],[w.item(2),0,-w.item(0),w.item(4)],[-w.item(1),w.item(0),0,w.item(5)],[0,0,0,0]])\n",
    "def voperationA(w):\n",
    "    return np.array([[0,-w[2][0],w[1][0],w[-3][0]],[w[2][0],0,-w[0][0],w[-2][0]],[-w[1][0],w[0][0],0,w[-1][0]],[0,0,0,0]])"
   ]
  },
  {
   "cell_type": "code",
   "execution_count": 4,
   "metadata": {},
   "outputs": [
    {
     "data": {
      "text/plain": [
       "array([[  0,  -7, -10,   4],\n",
       "       [  7,   0,  -1,  -5],\n",
       "       [ 10,   1,   0,  -1],\n",
       "       [  0,   0,   0,   0]])"
      ]
     },
     "execution_count": 4,
     "metadata": {},
     "output_type": "execute_result"
    }
   ],
   "source": [
    "voperationA(V)"
   ]
  },
  {
   "cell_type": "markdown",
   "metadata": {},
   "source": [
    "PROB 3"
   ]
  },
  {
   "cell_type": "markdown",
   "metadata": {},
   "source": [
    "spatial twist"
   ]
  },
  {
   "cell_type": "code",
   "execution_count": 11,
   "metadata": {},
   "outputs": [],
   "source": [
    "import numpy as np\n",
    "\n",
    "M = np.array([[-0.17552475, 0.10698382, 0.97864474, -0.78612639], [-0.71716430, -0.69491169, -0.05266036, 1.43659258], [0.67443786, -0.71109227, 0.19869918, -1.42648970], [0.00000000, 0.00000000, 0.00000000, 1.00000000]])\n",
    "V_s = np.array([[0.66752031], [0.94825862], [-0.65320298], [0.06894985], [0.58370285], [0.88232485]])"
   ]
  },
  {
   "cell_type": "code",
   "execution_count": 12,
   "metadata": {},
   "outputs": [
    {
     "data": {
      "text/plain": [
       "array([[ 0.        ,  0.65320298,  0.94825862,  0.06894985],\n",
       "       [-0.65320298,  0.        , -0.66752031,  0.58370285],\n",
       "       [-0.94825862,  0.66752031,  0.        ,  0.88232485],\n",
       "       [ 0.        ,  0.        ,  0.        ,  0.        ]])"
      ]
     },
     "execution_count": 12,
     "metadata": {},
     "output_type": "execute_result"
    }
   ],
   "source": [
    "tmp = voperationM(V_s)\n",
    "tmp"
   ]
  },
  {
   "cell_type": "code",
   "execution_count": 6,
   "metadata": {},
   "outputs": [],
   "source": [
    "from scipy.linalg import expm"
   ]
  },
  {
   "cell_type": "code",
   "execution_count": 14,
   "metadata": {},
   "outputs": [
    {
     "data": {
      "text/plain": [
       "array([[ 0.42932934,  0.74917196,  0.50439835,  0.57690316],\n",
       "       [-0.20428507,  0.62456929, -0.75377769,  0.15647367],\n",
       "       [-0.87974083,  0.22057783,  0.42119056,  0.78120069],\n",
       "       [ 0.        ,  0.        ,  0.        ,  1.        ]])"
      ]
     },
     "execution_count": 14,
     "metadata": {},
     "output_type": "execute_result"
    }
   ],
   "source": [
    "ev = expm(tmp)\n",
    "ev"
   ]
  },
  {
   "cell_type": "code",
   "execution_count": 15,
   "metadata": {},
   "outputs": [],
   "source": [
    "ev = np.matrix(ev)"
   ]
  },
  {
   "cell_type": "code",
   "execution_count": 16,
   "metadata": {},
   "outputs": [
    {
     "data": {
      "text/plain": [
       "matrix([[-0.27245196, -0.83335083,  0.48093277,  0.59613186],\n",
       "        [-0.92043793,  0.08012979, -0.38258756,  2.28957528],\n",
       "        [ 0.28029261, -0.5469055 , -0.78887923,  1.18884464],\n",
       "        [ 0.        ,  0.        ,  0.        ,  1.        ]])"
      ]
     },
     "execution_count": 16,
     "metadata": {},
     "output_type": "execute_result"
    }
   ],
   "source": [
    "rslt2= ev*M\n",
    "rslt2"
   ]
  },
  {
   "cell_type": "markdown",
   "metadata": {},
   "source": [
    "body twist"
   ]
  },
  {
   "cell_type": "code",
   "execution_count": 13,
   "metadata": {},
   "outputs": [],
   "source": [
    "import numpy as np\n",
    "\n",
    "M = np.array([[-0.14348217, 0.04958267, 0.98841005, -0.84028556], [0.74148889, -0.65607930, 0.14054956, -2.64766445], [0.65544419, 0.75306143, 0.05737068, -2.40159246], [0.00000000, 0.00000000, 0.00000000, 1.00000000]])\n",
    "V_b = np.array([[0.94209864], [-0.71921576], [0.75055931], [0.65941776], [0.98050624], [0.57127415]])"
   ]
  },
  {
   "cell_type": "code",
   "execution_count": 14,
   "metadata": {},
   "outputs": [],
   "source": [
    "tmp = voperationM(V_b)\n",
    "ev = expm(tmp)\n",
    "ev = np.matrix(ev)"
   ]
  },
  {
   "cell_type": "code",
   "execution_count": 15,
   "metadata": {},
   "outputs": [
    {
     "data": {
      "text/plain": [
       "matrix([[ 0.72943118,  0.56458564,  0.38622948,  0.20743476],\n",
       "        [ 0.35755964, -0.79603323,  0.4883464 , -2.89795354],\n",
       "        [ 0.58316486, -0.21811501, -0.7825245 , -1.84763547],\n",
       "        [ 0.        ,  0.        ,  0.        ,  1.        ]])"
      ]
     },
     "execution_count": 15,
     "metadata": {},
     "output_type": "execute_result"
    }
   ],
   "source": [
    "rslt=M*ev\n",
    "rslt"
   ]
  },
  {
   "cell_type": "markdown",
   "metadata": {},
   "source": [
    "PROB 4"
   ]
  },
  {
   "cell_type": "code",
   "execution_count": 20,
   "metadata": {},
   "outputs": [],
   "source": [
    "import numpy as np\n",
    "\n",
    "T_1in0 = np.array([[0.71130897, -0.43872681, -0.54914328, -0.79858970], [0.55164204, 0.83262030, 0.04934063, -0.75812798], [0.43558078, -0.33802695, 0.83427044, 0.70429059], [0.00000000, 0.00000000, 0.00000000, 1.00000000]])"
   ]
  },
  {
   "cell_type": "code",
   "execution_count": 21,
   "metadata": {},
   "outputs": [],
   "source": [
    "from scipy.linalg import logm"
   ]
  },
  {
   "cell_type": "code",
   "execution_count": 22,
   "metadata": {},
   "outputs": [],
   "source": [
    "tmp = logm(T_1in0)"
   ]
  },
  {
   "cell_type": "code",
   "execution_count": 23,
   "metadata": {},
   "outputs": [],
   "source": [
    "def toperationM(w):\n",
    "    return np.array([[0,-w.item(2),w.item(1),w.item(3)],[w.item(2),0,-w.item(0),w.item(4)],[-w.item(1),w.item(0),0,w.item(5)],[0,0,0,0]])\n",
    "def toperationA(w):\n",
    "    return np.array([[0,-w[2][0],w[1][0],w[-3][0]],[w[2][0],0,-w[0][0],w[-2][0]],[-w[1][0],w[0][0],0,w[-1][0]],[0,0,0,0]])"
   ]
  },
  {
   "cell_type": "code",
   "execution_count": 24,
   "metadata": {},
   "outputs": [],
   "source": [
    "def tinverse(w):\n",
    "    return np.array([[-w[1][2]],[w[0][2]],[-w[0][1]],[w[0][3]],[w[1][3]],[w[2][3]]])"
   ]
  },
  {
   "cell_type": "code",
   "execution_count": 25,
   "metadata": {},
   "outputs": [
    {
     "data": {
      "text/plain": [
       "array([[-0.2166382 ],\n",
       "       [-0.55071427],\n",
       "       [ 0.55387115],\n",
       "       [-0.78830222],\n",
       "       [-0.6167928 ],\n",
       "       [ 0.84884399]])"
      ]
     },
     "execution_count": 25,
     "metadata": {},
     "output_type": "execute_result"
    }
   ],
   "source": [
    "tinverse(tmp)"
   ]
  },
  {
   "cell_type": "markdown",
   "metadata": {},
   "source": [
    "PROB 5"
   ]
  },
  {
   "cell_type": "code",
   "execution_count": 26,
   "metadata": {},
   "outputs": [],
   "source": [
    "def TposeA(R,P):\n",
    "    return np.matrix([[R[0][0],R[0][1],R[0][2],P[0]], [R[1][0],R[1][1],R[1][2],P[1]], [R[2][0],R[2][1],R[2][2],P[2]],[0.00000000, 0.00000000, 0.00000000, 1.00000000]])\n",
    "def TposeM(R,P):\n",
    "    return np.matrix([[R.item(0),R.item(1),R.item(2),P.item(0)], [R.item(3),R.item(4),R.item(5),P.item(1)], [R.item(6),R.item(7),R.item(8),P.item(2)],[0.00000000, 0.00000000, 0.00000000, 1.00000000]])"
   ]
  },
  {
   "cell_type": "code",
   "execution_count": 30,
   "metadata": {},
   "outputs": [],
   "source": [
    "import numpy as np\n",
    "\n",
    "t = 1.22698724\n",
    "T_1in0 = np.matrix([[-0.80162774, 0.49939971, -0.32862272, -0.40378897], [0.47902358, 0.20769740, -0.85287643, 0.53584419], [-0.35767216, -0.84110744, -0.40572023, -0.59614276], [0.00000000, 0.00000000, 0.00000000, 1.00000000]])\n",
    "p_2in0 = np.matrix([-0.15806413, 0.01982080, -0.80193285])\n",
    "R_2in0 = np.matrix([[-0.90916816, 0.10040080, 0.40414469], [-0.35751835, 0.30944109, -0.88115086], [-0.21352723, -0.94560345, -0.24543885]])"
   ]
  },
  {
   "cell_type": "code",
   "execution_count": null,
   "metadata": {},
   "outputs": [],
   "source": []
  },
  {
   "cell_type": "code",
   "execution_count": 31,
   "metadata": {},
   "outputs": [
    {
     "data": {
      "text/plain": [
       "matrix([[-0.90916816,  0.1004008 ,  0.40414469, -0.15806413],\n",
       "        [-0.35751835,  0.30944109, -0.88115086,  0.0198208 ],\n",
       "        [-0.21352723, -0.94560345, -0.24543885, -0.80193285],\n",
       "        [ 0.        ,  0.        ,  0.        ,  1.        ]])"
      ]
     },
     "execution_count": 31,
     "metadata": {},
     "output_type": "execute_result"
    }
   ],
   "source": [
    "newT = TposeM(R_2in0,p_2in0)\n",
    "newT"
   ]
  },
  {
   "cell_type": "code",
   "execution_count": null,
   "metadata": {},
   "outputs": [],
   "source": []
  },
  {
   "cell_type": "code",
   "execution_count": 32,
   "metadata": {},
   "outputs": [
    {
     "data": {
      "text/plain": [
       "matrix([[ 0.63392745,  0.40596154, -0.65827899, -0.37056184],\n",
       "        [-0.3486946 ,  0.90976433,  0.22525745,  0.18862978],\n",
       "        [ 0.6903246 ,  0.08674146,  0.71828118,  0.44284662],\n",
       "        [ 0.        ,  0.        ,  0.        ,  1.        ]])"
      ]
     },
     "execution_count": 32,
     "metadata": {},
     "output_type": "execute_result"
    }
   ],
   "source": [
    "tmp = T_1in0.I * newT  \n",
    "tmp"
   ]
  },
  {
   "cell_type": "code",
   "execution_count": 33,
   "metadata": {},
   "outputs": [
    {
     "data": {
      "text/plain": [
       "array([[-0.0646075 ],\n",
       "       [-0.62902415],\n",
       "       [-0.35199146],\n",
       "       [-0.17413918],\n",
       "       [ 0.08030742],\n",
       "       [ 0.46866823]])"
      ]
     },
     "execution_count": 33,
     "metadata": {},
     "output_type": "execute_result"
    }
   ],
   "source": [
    "\n",
    "## this is the answer v\n",
    "log = logm(tmp)\n",
    "tinverse(log/t)"
   ]
  },
  {
   "cell_type": "markdown",
   "metadata": {},
   "source": [
    "PROB 6"
   ]
  },
  {
   "cell_type": "code",
   "execution_count": 34,
   "metadata": {},
   "outputs": [],
   "source": [
    "def getP(w):\n",
    "    return np.matrix([w.item(3),w.item(7),w.item(11)])\n",
    "def getR(w):\n",
    "    return np.matrix([[w.item(0),w.item(1),w.item(2)],[w.item(4),w.item(5),w.item(6)],[w.item(8),w.item(9),w.item(10)]])\n",
    "def woperationM(w):\n",
    "    return np.array([[0,-w.item(2),w.item(1)],[w.item(2),0,-w.item(0)],[-w.item(1),w.item(0),0]])\n",
    "def woperationA(w):\n",
    "    return np.array([[0,-w[2][0],w[1][0]],[w[2][0],0,-w[0][0]],[-w[1][0],w[0][0],0]])"
   ]
  },
  {
   "cell_type": "code",
   "execution_count": 35,
   "metadata": {},
   "outputs": [],
   "source": [
    "import numpy as np\n",
    "\n",
    "T = np.matrix([[0.03419872, -0.04215387, 0.99852566, -0.87704907], [-0.84390742, 0.53401633, 0.05144726, 0.19475204], [-0.53539771, -0.84442265, -0.01731129, 0.89626512], [0.00000000, 0.00000000, 0.00000000, 1.00000000]])"
   ]
  },
  {
   "cell_type": "code",
   "execution_count": 36,
   "metadata": {},
   "outputs": [
    {
     "data": {
      "text/plain": [
       "(matrix([[-0.87704907,  0.19475204,  0.89626512]]),\n",
       " matrix([[ 0.03419872, -0.04215387,  0.99852566],\n",
       "         [-0.84390742,  0.53401633,  0.05144726],\n",
       "         [-0.53539771, -0.84442265, -0.01731129]]))"
      ]
     },
     "execution_count": 36,
     "metadata": {},
     "output_type": "execute_result"
    }
   ],
   "source": [
    "p = getP(T)\n",
    "R = getR(T)\n",
    "p,R"
   ]
  },
  {
   "cell_type": "code",
   "execution_count": 37,
   "metadata": {},
   "outputs": [
    {
     "data": {
      "text/plain": [
       "matrix([[ 0.65209499, -0.64307324, -0.04948179],\n",
       "        [-0.43891894, -0.77838114,  0.87976087],\n",
       "        [ 0.73348795, -0.46014897, -0.23958668]])"
      ]
     },
     "execution_count": 37,
     "metadata": {},
     "output_type": "execute_result"
    }
   ],
   "source": [
    "pb = woperationM(p)\n",
    "prod = pb * R\n",
    "prod"
   ]
  },
  {
   "cell_type": "code",
   "execution_count": 38,
   "metadata": {},
   "outputs": [],
   "source": [
    "def adjoint(T):\n",
    "    rslt = np.matrix([[R.item(0),R.item(1),R.item(2),0,0,0],\n",
    "            [R.item(3),R.item(4),R.item(5),0,0,0],\n",
    "            [R.item(6),R.item(7),R.item(8),0,0,0],\n",
    "            [prod.item(0),prod.item(1),prod.item(2),R.item(0),R.item(1),R.item(2)],\n",
    "            [prod.item(3),prod.item(4),prod.item(5),R.item(3),R.item(4),R.item(5)],\n",
    "            [prod.item(6),prod.item(7),prod.item(8),R.item(6),R.item(7),R.item(8)]])\n",
    "    \n",
    "    return rslt.round(2)"
   ]
  },
  {
   "cell_type": "code",
   "execution_count": 39,
   "metadata": {},
   "outputs": [
    {
     "data": {
      "text/plain": [
       "array([[ 0.03, -0.04,  1.  ,  0.  ,  0.  ,  0.  ],\n",
       "       [-0.84,  0.53,  0.05,  0.  ,  0.  ,  0.  ],\n",
       "       [-0.54, -0.84, -0.02,  0.  ,  0.  ,  0.  ],\n",
       "       [ 0.65, -0.64, -0.05,  0.03, -0.04,  1.  ],\n",
       "       [-0.44, -0.78,  0.88, -0.84,  0.53,  0.05],\n",
       "       [ 0.73, -0.46, -0.24, -0.54, -0.84, -0.02]])"
      ]
     },
     "execution_count": 39,
     "metadata": {},
     "output_type": "execute_result"
    }
   ],
   "source": [
    "adjoint(T)"
   ]
  },
  {
   "cell_type": "markdown",
   "metadata": {},
   "source": [
    "PROB 7"
   ]
  },
  {
   "cell_type": "code",
   "execution_count": 50,
   "metadata": {},
   "outputs": [],
   "source": [
    "import numpy as np\n",
    "\n",
    "V_sb_in_b = np.matrix([[0.55849389], [-0.85124160], [0.30640874], [-0.23570889], [0.77032115], [-0.10390180]])\n",
    "T_sb = np.matrix([[-0.30173113, 0.76540379, -0.56843237, 0.24448255], [-0.56964661, 0.33335869, 0.75124878, -0.38109831], [0.76450053, 0.55048071, 0.33542498, 0.83624122], [0.00000000, 0.00000000, 0.00000000, 1.00000000]])"
   ]
  },
  {
   "cell_type": "code",
   "execution_count": 51,
   "metadata": {},
   "outputs": [
    {
     "data": {
      "text/plain": [
       "matrix([[ 0.62787878, -0.4679983 , -0.62188891, -0.33290135],\n",
       "        [ 0.03571569,  0.81550678, -0.57764442,  0.73655184],\n",
       "        [ 0.77749124,  0.34047948,  0.52875429, -0.02056359],\n",
       "        [ 0.        ,  0.        ,  0.        ,  1.        ]])"
      ]
     },
     "execution_count": 51,
     "metadata": {},
     "output_type": "execute_result"
    }
   ],
   "source": [
    "vp = voperationM(V_sb_in_b)\n",
    "eb = expm(vp)\n",
    "eb = np.matrix(eb)\n",
    "eb"
   ]
  },
  {
   "cell_type": "code",
   "execution_count": 52,
   "metadata": {},
   "outputs": [
    {
     "data": {
      "text/plain": [
       "matrix([[-0.60406483,  0.57186208, -0.55504904,  0.92037783],\n",
       "        [ 0.23832646,  0.79423472,  0.55892014,  0.0386254 ],\n",
       "        [ 0.76046444,  0.20534112, -0.61605912,  0.980298  ],\n",
       "        [ 0.        ,  0.        ,  0.        ,  1.        ]])"
      ]
     },
     "execution_count": 52,
     "metadata": {},
     "output_type": "execute_result"
    }
   ],
   "source": [
    "rslt = T_sb * eb\n",
    "rslt"
   ]
  },
  {
   "cell_type": "code",
   "execution_count": 53,
   "metadata": {},
   "outputs": [
    {
     "data": {
      "text/plain": [
       "array([[ 0.93547841,  0.11775877, -0.33318616,  1.01517135],\n",
       "       [ 0.21829146,  0.54889125,  0.80688738, -0.48031402],\n",
       "       [ 0.27790102, -0.8275574 ,  0.48777019,  0.18908179],\n",
       "       [ 0.        ,  0.        ,  0.        ,  1.        ]])"
      ]
     },
     "execution_count": 53,
     "metadata": {},
     "output_type": "execute_result"
    }
   ],
   "source": [
    "es = rslt * T_sb.I\n",
    "es = np.array(es)\n",
    "es\n"
   ]
  },
  {
   "cell_type": "code",
   "execution_count": 54,
   "metadata": {},
   "outputs": [
    {
     "data": {
      "text/plain": [
       "matrix([[-0.60406483,  0.57186208, -0.55504904,  0.92037783],\n",
       "        [ 0.23832646,  0.79423472,  0.55892014,  0.0386254 ],\n",
       "        [ 0.76046444,  0.20534112, -0.61605912,  0.980298  ],\n",
       "        [ 0.        ,  0.        ,  0.        ,  1.        ]])"
      ]
     },
     "execution_count": 54,
     "metadata": {},
     "output_type": "execute_result"
    }
   ],
   "source": [
    "es * T_sb"
   ]
  },
  {
   "cell_type": "code",
   "execution_count": 55,
   "metadata": {},
   "outputs": [],
   "source": [
    "def tinverse(w):\n",
    "    return np.array([[-w[1][2]],[w[0][2]],[-w[0][1]],[w[0][3]],[w[1][3]],[w[2][3]]])"
   ]
  },
  {
   "cell_type": "code",
   "execution_count": 56,
   "metadata": {},
   "outputs": [
    {
     "data": {
      "text/plain": [
       "array([[-0.9942312 ],\n",
       "       [-0.37172375],\n",
       "       [ 0.06115394],\n",
       "       [ 1.00733364],\n",
       "       [-0.53336026],\n",
       "       [-0.26078369]])"
      ]
     },
     "execution_count": 56,
     "metadata": {},
     "output_type": "execute_result"
    }
   ],
   "source": [
    "tinverse(logm(es))"
   ]
  },
  {
   "cell_type": "code",
   "execution_count": 47,
   "metadata": {},
   "outputs": [
    {
     "data": {
      "text/plain": [
       "[[-0.922161870703],\n",
       " [-0.176762685611],\n",
       " [0.684752833848],\n",
       " [-0.83599192518],\n",
       " [-0.785486459764],\n",
       " [-0.184403103]]"
      ]
     },
     "execution_count": 47,
     "metadata": {},
     "output_type": "execute_result"
    }
   ],
   "source": [
    "[[-0.922161870703], [-0.176762685611], [0.684752833848], [-0.83599192518], [-0.785486459764], [-0.184403103]]"
   ]
  },
  {
   "cell_type": "markdown",
   "metadata": {},
   "source": [
    "PROB 8"
   ]
  },
  {
   "cell_type": "code",
   "execution_count": 57,
   "metadata": {},
   "outputs": [],
   "source": [
    "import numpy as np\n",
    "\n",
    "T_sb = np.matrix([[0.75902288, 0.41301993, -0.50328799, 0.45552068], [0.64799367, -0.40425129, 0.64551150, 0.96021433], [0.06315430, -0.81608543, -0.57447028, 0.90802665], [0.00000000, 0.00000000, 0.00000000, 1.00000000]])\n",
    "V_sb_in_s = np.matrix([[-1.01019204], [-0.31498866], [0.73022305], [2.42810375], [-1.75633038], [0.63807287]])\n",
    "q_B = np.matrix([[1.77171125], [-1.78784194], [1.29701780], [1.00000000]])"
   ]
  },
  {
   "cell_type": "code",
   "execution_count": 58,
   "metadata": {},
   "outputs": [
    {
     "data": {
      "text/plain": [
       "matrix([[ 0.72500559, -0.40668433, -0.55585498,  2.50480929],\n",
       "        [ 0.68339821,  0.32442576,  0.65399909, -0.19042938],\n",
       "        [-0.0856375 , -0.85402329,  0.51313783,  1.41965376],\n",
       "        [ 0.        ,  0.        ,  0.        ,  1.        ]])"
      ]
     },
     "execution_count": 58,
     "metadata": {},
     "output_type": "execute_result"
    }
   ],
   "source": [
    "vp = voperationM(V_sb_in_s)\n",
    "es = expm(vp)\n",
    "es = np.matrix(es)\n",
    "es"
   ]
  },
  {
   "cell_type": "code",
   "execution_count": 59,
   "metadata": {},
   "outputs": [
    {
     "data": {
      "text/plain": [
       "matrix([[ 0.25166233,  0.91746957, -0.30808385,  1.93982907],\n",
       "        [ 0.77024357, -0.38261158, -0.51022859,  1.0262395 ],\n",
       "        [-0.58599565, -0.10889429, -0.80296396,  1.02654152],\n",
       "        [ 0.        ,  0.        ,  0.        ,  1.        ]])"
      ]
     },
     "execution_count": 59,
     "metadata": {},
     "output_type": "execute_result"
    }
   ],
   "source": [
    "rslt = es* T_sb \n",
    "rslt"
   ]
  },
  {
   "cell_type": "code",
   "execution_count": 60,
   "metadata": {},
   "outputs": [
    {
     "data": {
      "text/plain": [
       "array([[ 0.65312229,  0.44157338, -0.61517822,  1.17689265],\n",
       "       [ 0.27079212,  0.62247148,  0.73430299,  0.48963993],\n",
       "       [ 0.70717955, -0.64617506,  0.28697541, -0.77249785],\n",
       "       [ 0.        ,  0.        ,  0.        ,  1.        ]])"
      ]
     },
     "execution_count": 60,
     "metadata": {},
     "output_type": "execute_result"
    }
   ],
   "source": [
    "eb = T_sb.I*rslt\n",
    "eb = np.array(eb)\n",
    "eb\n"
   ]
  },
  {
   "cell_type": "code",
   "execution_count": 61,
   "metadata": {},
   "outputs": [
    {
     "data": {
      "text/plain": [
       "matrix([[ 0.25166233,  0.91746957, -0.30808385,  1.93982907],\n",
       "        [ 0.77024357, -0.38261158, -0.51022859,  1.0262395 ],\n",
       "        [-0.58599565, -0.10889429, -0.80296396,  1.02654152],\n",
       "        [ 0.        ,  0.        ,  0.        ,  1.        ]])"
      ]
     },
     "execution_count": 61,
     "metadata": {},
     "output_type": "execute_result"
    }
   ],
   "source": [
    "T_sb * eb"
   ]
  },
  {
   "cell_type": "code",
   "execution_count": 62,
   "metadata": {},
   "outputs": [
    {
     "data": {
      "text/plain": [
       "matrix([[-0.59982619],\n",
       "        [ 1.9503653 ],\n",
       "        [ 2.27888992],\n",
       "        [ 0.        ]])"
      ]
     },
     "execution_count": 62,
     "metadata": {},
     "output_type": "execute_result"
    }
   ],
   "source": [
    "logm(eb) * q_B"
   ]
  },
  {
   "cell_type": "code",
   "execution_count": null,
   "metadata": {},
   "outputs": [],
   "source": []
  }
 ],
 "metadata": {
  "kernelspec": {
   "display_name": "Python 3",
   "language": "python",
   "name": "python3"
  },
  "language_info": {
   "codemirror_mode": {
    "name": "ipython",
    "version": 3
   },
   "file_extension": ".py",
   "mimetype": "text/x-python",
   "name": "python",
   "nbconvert_exporter": "python",
   "pygments_lexer": "ipython3",
   "version": "3.8.8"
  }
 },
 "nbformat": 4,
 "nbformat_minor": 4
}
