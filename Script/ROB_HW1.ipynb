{
 "cells": [
  {
   "cell_type": "markdown",
   "metadata": {},
   "source": [
    "Prob 5"
   ]
  },
  {
   "cell_type": "code",
   "execution_count": 34,
   "metadata": {},
   "outputs": [],
   "source": [
    "import numpy as np\n",
    "\n",
    "p_7 = np.array([[0.47500716], [-0.79485077]])\n",
    "R_47 = np.array([[0.12731093, -0.99186286], [0.99186286, 0.12731093]])\n",
    "q_4 = np.array([[0.12270238], [0.27918390]])"
   ]
  },
  {
   "cell_type": "code",
   "execution_count": 36,
   "metadata": {},
   "outputs": [
    {
     "data": {
      "text/plain": [
       "array([[1.02044285],\n",
       "       [0.48617438]])"
      ]
     },
     "execution_count": 36,
     "metadata": {},
     "output_type": "execute_result"
    }
   ],
   "source": [
    "R_47.T.dot((q_4-p_7))"
   ]
  },
  {
   "cell_type": "code",
   "execution_count": 37,
   "metadata": {},
   "outputs": [],
   "source": [
    "import numpy as np\n",
    "\n",
    "p_9 = np.array([[0.15013585], [0.53729064]])\n",
    "R_49 = np.array([[-0.54424277, -0.83892777], [0.83892777, -0.54424277]])\n",
    "q_9 = np.array([[-0.92635228], [-0.72281123]])"
   ]
  },
  {
   "cell_type": "code",
   "execution_count": 38,
   "metadata": {},
   "outputs": [
    {
     "data": {
      "text/plain": [
       "array([[1.26068279],\n",
       "       [0.15353277]])"
      ]
     },
     "execution_count": 38,
     "metadata": {},
     "output_type": "execute_result"
    }
   ],
   "source": [
    "R_49.dot(q_9) + p_9"
   ]
  },
  {
   "cell_type": "markdown",
   "metadata": {},
   "source": [
    "Draw the relationship map and the equation"
   ]
  },
  {
   "cell_type": "markdown",
   "metadata": {},
   "source": [
    "Prob 7 "
   ]
  },
  {
   "cell_type": "code",
   "execution_count": 20,
   "metadata": {},
   "outputs": [],
   "source": [
    "import numpy as np\n",
    "\n",
    "R1 = np.array([[0.17231657, -0.86627811, -0.47485016], [0.97301198, 0.34694246, -0.11030412], [0.48743591, -0.40706390, 0.74197689]])\n",
    "R2 = np.array([[-0.21045390, -0.33106999, 0.91983793], [-0.33312338, 0.90888528, 0.25091108], [-0.91909628, -0.25361430, -0.30156561]])\n",
    "R3 = np.array([[0.21890413, -0.92268282, -0.63458470], [1.05034892, 0.16679912, 0.15693454], [-0.02862355, -0.51013469, 0.86431030]])\n",
    "R4 = np.array([[1.03299000, 0.00577202, 0.46365207], [0.52470367, 0.32750637, -0.72506492], [-0.31548650, 0.94856451, 0.45428530]])\n",
    "R5 = np.array([[-0.96514921, 0.22308844, -0.13681576], [-0.26024821, -0.87317955, 0.41210234], [-0.02752945, 0.43334631, 0.90080692]])"
   ]
  },
  {
   "cell_type": "code",
   "execution_count": 25,
   "metadata": {},
   "outputs": [
    {
     "data": {
      "text/plain": [
       "0.9999999999586612"
      ]
     },
     "execution_count": 25,
     "metadata": {},
     "output_type": "execute_result"
    }
   ],
   "source": [
    "np.linalg.det(R5)"
   ]
  },
  {
   "cell_type": "code",
   "execution_count": 27,
   "metadata": {},
   "outputs": [
    {
     "data": {
      "text/plain": [
       "array([[ 9.99999999e-01, -2.30385640e-09,  7.29394422e-09],\n",
       "       [-2.30385640e-09,  1.00000000e+00,  4.54350380e-09],\n",
       "       [ 7.29394422e-09,  4.54350380e-09,  9.99999998e-01]])"
      ]
     },
     "execution_count": 27,
     "metadata": {},
     "output_type": "execute_result"
    }
   ],
   "source": [
    "R5.T.dot(R5)"
   ]
  },
  {
   "cell_type": "code",
   "execution_count": 41,
   "metadata": {},
   "outputs": [],
   "source": [
    "import numpy as np\n",
    "\n",
    "R_0 = np.array([[0.15747570, 0.01054653, -0.98746654], [-0.09915924, 0.99505807, -0.00518576], [0.98253186, 0.09873306, 0.15774325]])\n",
    "R_1 = np.array([[0.45444337, 0.44159621, 0.07732724], [-0.55941175, -0.12052851, -0.70682956], [0.51801993, 0.62304591, -0.89316392]])\n",
    "R_2 = np.array([[-0.41218907, 0.04004365, -0.47016150], [-0.61442880, -0.07646181, -0.57137001], [-0.11118421, 0.98444372, -0.90815816]])\n",
    "R_3 = np.array([[0.15747570, -0.09915924, 0.98253186], [0.01054653, 0.99505807, 0.09873306], [-0.98746654, -0.00518576, 0.15774325]])"
   ]
  },
  {
   "cell_type": "code",
   "execution_count": 32,
   "metadata": {},
   "outputs": [
    {
     "data": {
      "text/plain": [
       "1.000000004316984"
      ]
     },
     "execution_count": 32,
     "metadata": {},
     "output_type": "execute_result"
    }
   ],
   "source": [
    "np.linalg.det(R_3)"
   ]
  },
  {
   "cell_type": "code",
   "execution_count": 34,
   "metadata": {},
   "outputs": [
    {
     "data": {
      "text/plain": [
       "array([[ 9.99999993e-01,  3.54099950e-09,  2.31922881e-09],\n",
       "       [ 3.54099950e-09,  1.00000001e+00, -3.02071220e-09],\n",
       "       [ 2.31922881e-09, -3.02071220e-09,  1.00000001e+00]])"
      ]
     },
     "execution_count": 34,
     "metadata": {},
     "output_type": "execute_result"
    }
   ],
   "source": [
    "R_3.T.dot(R_3)"
   ]
  },
  {
   "cell_type": "code",
   "execution_count": 45,
   "metadata": {},
   "outputs": [
    {
     "data": {
      "text/plain": [
       "array([[-0.1574757 , -0.01054653,  0.98746654],\n",
       "       [ 0.09915924, -0.99505807,  0.00518576],\n",
       "       [-0.98253186, -0.09873306, -0.15774325]])"
      ]
     },
     "execution_count": 45,
     "metadata": {},
     "output_type": "execute_result"
    }
   ],
   "source": [
    "R_0 * -1"
   ]
  },
  {
   "cell_type": "code",
   "execution_count": 46,
   "metadata": {},
   "outputs": [
    {
     "data": {
      "text/plain": [
       "array([[ 0.1574757 , -0.09915924,  0.98253186],\n",
       "       [ 0.01054653,  0.99505807,  0.09873306],\n",
       "       [-0.98746654, -0.00518576,  0.15774325]])"
      ]
     },
     "execution_count": 46,
     "metadata": {},
     "output_type": "execute_result"
    }
   ],
   "source": [
    "R_3"
   ]
  },
  {
   "cell_type": "markdown",
   "metadata": {},
   "source": [
    "Prob 9 "
   ]
  },
  {
   "cell_type": "markdown",
   "metadata": {},
   "source": [
    "## transpose 之后减去V，不transpose 则加上p"
   ]
  },
  {
   "cell_type": "code",
   "execution_count": 10,
   "metadata": {},
   "outputs": [
    {
     "data": {
      "text/plain": [
       "array([[ 0.83076029,  0.50215127,  0.24016961, -0.23289293],\n",
       "       [ 0.04382999, -0.4891439 ,  0.87110113, -0.18801268],\n",
       "       [ 0.55490204, -0.7131496 , -0.42837061,  0.70303041],\n",
       "       [ 0.        ,  0.        ,  0.        ,  1.        ]])"
      ]
     },
     "execution_count": 10,
     "metadata": {},
     "output_type": "execute_result"
    }
   ],
   "source": [
    "import numpy as np\n",
    "\n",
    "\n",
    "T_95 = np.array([[0.83076029, 0.50215127, 0.24016961, -0.23289293], [0.04382999, -0.48914390, 0.87110113, -0.18801268], [0.55490204, -0.71314960, -0.42837061, 0.70303041], [0.00000000, 0.00000000, 0.00000000, 1.00000000]])\n",
    "p_9 = np.array([[0.46507614], [-0.27464321], [0.00377920]])\n",
    "\n",
    "T_95"
   ]
  },
  {
   "cell_type": "code",
   "execution_count": 3,
   "metadata": {},
   "outputs": [],
   "source": [
    "def extractRT(t):\n",
    "    r = np.matrix([[t[0][0],t[0][1],t[0][2]],[t[1][0],t[1][1],t[1][2]],[t[2][0],t[2][1],t[2][2]]])\n",
    "    p = np.matrix([[t[0][3]],[t[1][3]],[t[2][3]]])\n",
    "    return r,p"
   ]
  },
  {
   "cell_type": "code",
   "execution_count": 12,
   "metadata": {},
   "outputs": [],
   "source": [
    "r,p=extractRT(T_95)"
   ]
  },
  {
   "cell_type": "code",
   "execution_count": 13,
   "metadata": {},
   "outputs": [
    {
     "data": {
      "text/plain": [
       "matrix([[ 0.18839422],\n",
       "        [-0.52634808],\n",
       "        [-0.52086943]])"
      ]
     },
     "execution_count": 13,
     "metadata": {},
     "output_type": "execute_result"
    }
   ],
   "source": [
    "v = np.matmul(r.T, p)\n",
    "v"
   ]
  },
  {
   "cell_type": "code",
   "execution_count": 14,
   "metadata": {},
   "outputs": [
    {
     "data": {
      "text/plain": [
       "matrix([[0.18803205],\n",
       "        [0.89153157],\n",
       "        [0.39170567]])"
      ]
     },
     "execution_count": 14,
     "metadata": {},
     "output_type": "execute_result"
    }
   ],
   "source": [
    "newP = np.matmul(r.T, p_9) - v\n",
    "newP"
   ]
  },
  {
   "cell_type": "code",
   "execution_count": null,
   "metadata": {},
   "outputs": [],
   "source": []
  },
  {
   "cell_type": "code",
   "execution_count": 154,
   "metadata": {},
   "outputs": [
    {
     "data": {
      "text/plain": [
       "[[-1.06818757819], [-0.0225880313576], [0.137456874288]]"
      ]
     },
     "execution_count": 154,
     "metadata": {},
     "output_type": "execute_result"
    }
   ],
   "source": [
    "[[-1.06818757819], [-0.0225880313576], [0.137456874288]]"
   ]
  },
  {
   "cell_type": "code",
   "execution_count": 155,
   "metadata": {},
   "outputs": [],
   "source": [
    "import numpy as np\n",
    "\n",
    "T_81 = np.array([[0.23319927, 0.64338339, 0.72916110, -0.14499569], [-0.94671597, 0.32150308, 0.01909555, -0.70914963], [-0.22214178, -0.69476153, 0.68407561, -0.09615535], [0.00000000, 0.00000000, 0.00000000, 1.00000000]])\n",
    "p_1 = np.array([[-0.73542634], [0.43762420], [0.73257930]])"
   ]
  },
  {
   "cell_type": "code",
   "execution_count": 156,
   "metadata": {},
   "outputs": [],
   "source": [
    "r,p=extractRT(T_81)"
   ]
  },
  {
   "cell_type": "code",
   "execution_count": 158,
   "metadata": {},
   "outputs": [
    {
     "data": {
      "text/plain": [
       "matrix([[0.49923189],\n",
       "        [0.14177676],\n",
       "        [0.26430874]])"
      ]
     },
     "execution_count": 158,
     "metadata": {},
     "output_type": "execute_result"
    }
   ],
   "source": [
    "newP = np.matmul(r, p_1) + p\n",
    "newP"
   ]
  },
  {
   "cell_type": "code",
   "execution_count": 159,
   "metadata": {},
   "outputs": [],
   "source": [
    "import numpy as np\n",
    "\n",
    "T_54 = np.array([[-0.78480162, 0.40257459, 0.47119012, -0.68175557], [0.53696840, 0.82131039, 0.19265042, -0.55358209], [-0.30943717, 0.40420657, -0.86073555, 0.90333128], [0.00000000, 0.00000000, 0.00000000, 1.00000000]])\n",
    "p_5 = np.array([[0.82222292], [-0.11787068], [-0.57198160]])"
   ]
  },
  {
   "cell_type": "code",
   "execution_count": 160,
   "metadata": {},
   "outputs": [],
   "source": [
    "r,p=extractRT(T_54)"
   ]
  },
  {
   "cell_type": "code",
   "execution_count": 161,
   "metadata": {},
   "outputs": [
    {
     "data": {
      "text/plain": [
       "matrix([[-0.04173749],\n",
       "        [-0.36398775],\n",
       "        [-1.20541366]])"
      ]
     },
     "execution_count": 161,
     "metadata": {},
     "output_type": "execute_result"
    }
   ],
   "source": [
    "v = np.matmul(r.T, p)\n",
    "v"
   ]
  },
  {
   "cell_type": "code",
   "execution_count": 165,
   "metadata": {},
   "outputs": [
    {
     "data": {
      "text/plain": [
       "matrix([[-0.48984485],\n",
       "        [ 0.36698667],\n",
       "        [ 2.06245403]])"
      ]
     },
     "execution_count": 165,
     "metadata": {},
     "output_type": "execute_result"
    }
   ],
   "source": [
    "newP = np.matmul(r.T, p_5) - v\n",
    "newP"
   ]
  },
  {
   "cell_type": "markdown",
   "metadata": {},
   "source": [
    "If we need to inverse the vector, r.T * -v"
   ]
  },
  {
   "cell_type": "markdown",
   "metadata": {},
   "source": [
    "Prob 10"
   ]
  },
  {
   "cell_type": "code",
   "execution_count": 189,
   "metadata": {},
   "outputs": [],
   "source": [
    "import numpy as np\n",
    "\n",
    "T_89 = np.array([[-0.50918572, 0.84263683, 0.17519442, 0.65827217], [-0.66079321, -0.25233278, -0.70688082, 0.96351552], [-0.55143652, -0.47570090, 0.68529294, 0.09148563], [0.00000000, 0.00000000, 0.00000000, 1.00000000]])\n",
    "v_8 = np.array([[-0.14927652], [-0.93497573], [0.54084026]])"
   ]
  },
  {
   "cell_type": "code",
   "execution_count": 190,
   "metadata": {},
   "outputs": [
    {
     "data": {
      "text/plain": [
       "matrix([[-0.50918572, -0.66079321, -0.55143652],\n",
       "        [ 0.84263683, -0.25233278, -0.4757009 ],\n",
       "        [ 0.17519442, -0.70688082,  0.68529294]])"
      ]
     },
     "execution_count": 190,
     "metadata": {},
     "output_type": "execute_result"
    }
   ],
   "source": [
    "r,p=extractRT(T_89)\n",
    "r.T"
   ]
  },
  {
   "cell_type": "code",
   "execution_count": 191,
   "metadata": {},
   "outputs": [
    {
     "data": {
      "text/plain": [
       "matrix([[ 0.39559602],\n",
       "        [-0.14713907],\n",
       "        [ 1.00539801]])"
      ]
     },
     "execution_count": 191,
     "metadata": {},
     "output_type": "execute_result"
    }
   ],
   "source": [
    "newv = np.matmul(r.T, v_8)\n",
    "newv"
   ]
  },
  {
   "cell_type": "code",
   "execution_count": null,
   "metadata": {},
   "outputs": [],
   "source": []
  },
  {
   "cell_type": "code",
   "execution_count": 47,
   "metadata": {},
   "outputs": [],
   "source": [
    "import numpy as np\n",
    "\n",
    "T_29 = np.array([[-0.40682859, 0.26803726, -0.87329636, 0.23186487], [-0.90392765, -0.25618297, 0.34246911, 0.86585822], [-0.13192917, 0.92872295, 0.34650885, -0.42021570], [0.00000000, 0.00000000, 0.00000000, 1.00000000]])\n",
    "v_2 = np.array([[0.13491336], [0.42727426], [0.92915831]])"
   ]
  },
  {
   "cell_type": "code",
   "execution_count": 48,
   "metadata": {},
   "outputs": [
    {
     "data": {
      "text/plain": [
       "matrix([[-0.40682859, -0.90392765, -0.13192917],\n",
       "        [ 0.26803726, -0.25618297,  0.92872295],\n",
       "        [-0.87329636,  0.34246911,  0.34650885]])"
      ]
     },
     "execution_count": 48,
     "metadata": {},
     "output_type": "execute_result"
    }
   ],
   "source": [
    "r,p=extractRT(T_29)\n",
    "r.T"
   ]
  },
  {
   "cell_type": "code",
   "execution_count": 49,
   "metadata": {},
   "outputs": [
    {
     "data": {
      "text/plain": [
       "matrix([[-0.56369471],\n",
       "        [ 0.78963207],\n",
       "        [ 0.35047047]])"
      ]
     },
     "execution_count": 49,
     "metadata": {},
     "output_type": "execute_result"
    }
   ],
   "source": [
    "newv = np.matmul(r.T, v_2)\n",
    "newv"
   ]
  },
  {
   "cell_type": "code",
   "execution_count": null,
   "metadata": {},
   "outputs": [],
   "source": []
  }
 ],
 "metadata": {
  "kernelspec": {
   "display_name": "Python 3",
   "language": "python",
   "name": "python3"
  },
  "language_info": {
   "codemirror_mode": {
    "name": "ipython",
    "version": 3
   },
   "file_extension": ".py",
   "mimetype": "text/x-python",
   "name": "python",
   "nbconvert_exporter": "python",
   "pygments_lexer": "ipython3",
   "version": "3.8.8"
  }
 },
 "nbformat": 4,
 "nbformat_minor": 4
}
